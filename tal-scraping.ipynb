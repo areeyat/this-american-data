{
 "cells": [
  {
   "cell_type": "markdown",
   "id": "6b826b21-0eb1-4195-97d3-f0c0af4d3890",
   "metadata": {},
   "source": [
    "Let's get all the transcripts first"
   ]
  },
  {
   "cell_type": "code",
   "execution_count": 2,
   "id": "69ea1db0-f0e6-4bcb-abe1-a8f468bd13dc",
   "metadata": {},
   "outputs": [],
   "source": [
    "import requests\n",
    "from bs4 import BeautifulSoup\n",
    "from csv import writer\n",
    "import numpy as np\n",
    "import re\n",
    "from datetime import datetime, timezone, timedelta\n",
    "from zoneinfo import ZoneInfo\n",
    "import pandas as pd"
   ]
  },
  {
   "cell_type": "markdown",
   "id": "75a9d777-7ad5-4cd9-83d2-af75b161255d",
   "metadata": {},
   "source": [
    "# Cleaning/scraping functions"
   ]
  },
  {
   "cell_type": "markdown",
   "id": "8c81245f-1093-4369-995f-68e5bb69991a",
   "metadata": {},
   "source": [
    "- episode name\n",
    "- episode number\n",
    "- host\n",
    "- contributors\n",
    "- number of acts\n",
    "- clean transcript\n",
    "- approx episode length\n",
    "- date originally published\n",
    "- "
   ]
  },
  {
   "cell_type": "code",
   "execution_count": 5,
   "id": "b79ec747-0c20-4756-9fe1-cf6b1a8d5440",
   "metadata": {},
   "outputs": [],
   "source": [
    "ep_number = '1'\n",
    "transcript_url = 'https://www.thisamericanlife.org/'+ ep_number + '/transcript'\n",
    "page = requests.get(transcript_url)"
   ]
  },
  {
   "cell_type": "code",
   "execution_count": 6,
   "id": "a697bda3-fcfb-4c44-84bb-9a846270fb45",
   "metadata": {},
   "outputs": [],
   "source": [
    "soup = BeautifulSoup(page.content, 'html.parser')"
   ]
  },
  {
   "cell_type": "code",
   "execution_count": 7,
   "id": "5b2ba4e5-7b5c-4d33-8d26-45e68ed7f513",
   "metadata": {},
   "outputs": [
    {
     "data": {
      "text/plain": [
       "<h1>1: New Beginnings</h1>"
      ]
     },
     "execution_count": 7,
     "metadata": {},
     "output_type": "execute_result"
    }
   ],
   "source": [
    "soup.select_one('h1')"
   ]
  },
  {
   "cell_type": "code",
   "execution_count": 8,
   "id": "92160e06-d975-43d7-aa71-44d5eff5962f",
   "metadata": {
    "scrolled": true
   },
   "outputs": [
    {
     "data": {
      "text/plain": [
       "<body class=\"html not-front not-logged-in no-sidebars page-node page-node- page-node-43349 node-type-transcript page-status-\">\n",
       "<!-- Google Tag Manager (noscript) -->\n",
       "<noscript><iframe height=\"0\" src=\"https://www.googletagmanager.com/ns.html?id=GTM-5D6MWRV\" style=\"display:none;visibility:hidden\" width=\"0\"></iframe></noscript>\n",
       "<!-- End Google Tag Manager (noscript) -->\n",
       "<div id=\"skip-link\">\n",
       "<a class=\"element-invisible element-focusable\" href=\"#content\">Skip to main content</a>\n",
       "</div>\n",
       "<!--[if lt IE 7]>\n",
       "   <p class=\"chromeframe\">You are using an <strong>outdated</strong> browser. Please <a href=\"http://browsehappy.com/\">upgrade your browser</a> or <a href=\"http://www.google.com/chromeframe/?redirect=true\">activate Google Chrome Frame</a> to improve your experience.</p>\n",
       "   <![endif]-->\n",
       "<div aria-hidden=\"true\" class=\"modal\" data-micromodal-close=\"\" id=\"takeover\">\n",
       "<div data-micromodal-close=\"\" tabindex=\"-1\">\n",
       "<div aria-labelledby=\"modal-takeover-title\" aria-modal=\"true\" class=\"modal-container\" role=\"dialog\">\n",
       "<h2 id=\"modal-takeover-title\" style=\"height: 1em;\"></h2>\n",
       "<div class=\"modal-inner\">\n",
       "<div id=\"modal-takeover-content\">\n",
       "<div>\n",
       "<div class=\"image mobile_image\"><img alt=\"\" height=\"1350\" src=\"https://www.thisamericanlife.org/sites/default/files/images/membership/tal_partners_blue_-_16x9.jpg\" title=\"\" width=\"2400\"/></div>\n",
       "<div class=\"text\">\n",
       "<h3>Hi. We love you. Be our Life Partner.</h3>\n",
       "<p>Support the show to get ad-free listening, bonus content, and our new Greatest Hits Archive.</p>\n",
       "<div class=\"cta_link\">\n",
       "<a class=\"cta_link\" href=\"https://thisamericanlife.supercast.com?utm_campaign=lifepartners&amp;utm_source=talwebsite&amp;utm_medium=modal\">\n",
       "<span>\n",
       "<span>Learn more</span>\n",
       "<svg aria-label=\"Right arrow\" verion=\"1.1\"><path d=\"M23.987,12a2.411,2.411,0,0,0-.814-1.8L11.994.361a1.44,1.44,0,0,0-1.9,2.162l8.637,7.6a.25.25,0,0,1-.165.437H1.452a1.44,1.44,0,0,0,0,2.88H18.563a.251.251,0,0,1,.165.438l-8.637,7.6a1.44,1.44,0,1,0,1.9,2.161L23.172,13.8A2.409,2.409,0,0,0,23.987,12Z\" fill=\"currentColor\"></path></svg>\n",
       "</span>\n",
       "</a>\n",
       "</div>\n",
       "</div>\n",
       "<div class=\"image\">\n",
       "<a href=\"https://thisamericanlife.supercast.com?utm_campaign=lifepartners&amp;utm_source=talwebsite&amp;utm_medium=modal\">\n",
       "<img alt=\"This American Life Partners logo\" height=\"3000\" src=\"https://www.thisamericanlife.org/sites/default/files/images/membership/tal_partners_blue_-_sqare.jpg\" title=\"\" width=\"3000\"/> </a>\n",
       "</div>\n",
       "</div>\n",
       "</div>\n",
       "</div>\n",
       "<a class=\"close ignore\" data-micromodal-close=\"\">\n",
       "<span class=\"icon icon-close\"></span>\n",
       "</a>\n",
       "</div>\n",
       "</div>\n",
       "</div>\n",
       "<header id=\"site-header\" role=\"banner\">\n",
       "<div class=\"scrim\"></div>\n",
       "<div id=\"player\">\n",
       "<div class=\"jp-audio\" id=\"jp_container_1\">\n",
       "<div class=\"jp-type-single\">\n",
       "<div class=\"jp-progress\">\n",
       "<div class=\"jp-seek-bar\">\n",
       "<div class=\"jp-play-bar\"></div>\n",
       "</div>\n",
       "</div> <!-- /jp-progress -->\n",
       "<div class=\"jp-gui jp-interface\">\n",
       "<ul class=\"jp-controls\">\n",
       "<li><a class=\"jp-previous\" title=\"Previous\"><span class=\"icon-skip-back\"></span></a></li>\n",
       "<li><a class=\"jp-rewind\" title=\"Skip back\"><span class=\"icon-rewind\"></span></a></li>\n",
       "<li class=\"play\"><a class=\"jp-play\" tabindex=\"1\" title=\"Play\"><span class=\"icon-play\"></span></a></li>\n",
       "<li class=\"pause\"><a class=\"jp-pause\" tabindex=\"1\" title=\"Pause\"><span class=\"icon-pause\"></span></a></li>\n",
       "<li><a class=\"jp-forward\" title=\"Skip ahead\"><span class=\"icon-forward\"></span></a></li>\n",
       "<li><a class=\"jp-next\" title=\"Next\"><span class=\"icon-skip-forward\"></span></a></li>\n",
       "</ul>\n",
       "</div> <!-- /jp-interface -->\n",
       "<div data-audio=\"true\" data-audio-only=\"true\" id=\"fplayer\"></div>\n",
       "<div class=\"time\">\n",
       "<div class=\"current\"><span class=\"jp-current-time\">00:00</span></div>\n",
       "<div class=\"remaining\"><span class=\"jp-remaining\">00:00</span></div>\n",
       "</div>\n",
       "<ul class=\"actions\">\n",
       "<li class=\"transcript\"><a class=\"player-transcript ignore\"><span class=\"icon icon-closed_caption\"></span><span class=\"label\">Transcript</span></a></li>\n",
       "<li class=\"share\"><a class=\"player-share ignore\" data-micromodal-trigger=\"player-share-modal\" href=\"javascript:void(0)\"><span class=\"icon icon-share\"></span><span class=\"label\">Share</span></a></li>\n",
       "</ul>\n",
       "<aside id=\"player-info\">\n",
       "<header>\n",
       "<div class=\"image\"></div>\n",
       "<div class=\"episode\"></div>\n",
       "<div class=\"title\"></div>\n",
       "</header>\n",
       "<div class=\"content\">\n",
       "<div class=\"contributor\"></div>\n",
       "<div class=\"body\"></div>\n",
       "</div>\n",
       "</aside>\n",
       "</div> <!-- /jp-type-single -->\n",
       "</div> <!-- /jp-audio -->\n",
       "<a class=\"close\"><span class=\"icon-arrow-down\"></span></a>\n",
       "<div class=\"jp-jplayer\" id=\"jplayer\"></div>\n",
       "</div> <!-- /player -->\n",
       "<div class=\"container clearfix\">\n",
       "<div class=\"site-name\">\n",
       "<a href=\"/\">\n",
       "<span class=\"flag-wrapper\">\n",
       "<span class=\"icon icon-flag\"></span>\n",
       "</span>\n",
       "<span class=\"icon icon-wordmark\"></span><span class=\"element-invisible\">This American Life</span></a>\n",
       "</div>\n",
       "<a href=\"#main-menu\" id=\"burger\"><span class=\"top\"></span><span class=\"middle\"></span><span class=\"bottom\"></span></a>\n",
       "<nav id=\"main-menu\">\n",
       "<div class=\"item-list\"><ul class=\"menu\"><li class=\"partners mobile first\" style=\"color:#EC0000;\"><a href=\"https://thisamericanlife.supercast.com?utm_campaign=lifepartners&amp;utm_source=talwebsite&amp;utm_medium=mobile-top-nav\">Life Partners</a></li>\n",
       "<li class=\"how-to-listen\"><a href=\"/listen\">How to Listen</a></li>\n",
       "<li class=\"episodes\"><a href=\"/archive\">Episodes</a></li>\n",
       "<li class=\"recommended\"><a href=\"/recommended\">Recommended</a></li>\n",
       "<li class=\"about has-children\"><a href=\"/about\">About</a><div class=\"item-list\"><ul class=\"about has-children\"><li class=\"first\"><a href=\"/about\">Overview</a></li>\n",
       "<li><a href=\"/about/staff\">Staff</a></li>\n",
       "<li><a href=\"/about/announcements\">Announcements</a></li>\n",
       "<li><a href=\"/fellowships\">Fellowships</a></li>\n",
       "<li><a href=\"/about/jobs\">Jobs</a></li>\n",
       "<li><a href=\"/about/music\">Music</a></li>\n",
       "<li><a href=\"/about/make-radio\">Make Radio</a></li>\n",
       "<li><a href=\"/about/on-the-road\">On The Road</a></li>\n",
       "<li><a href=\"/about/faq\">FAQ</a></li>\n",
       "<li><a href=\"/about/submissions\">Submissions</a></li>\n",
       "<li><a href=\"https://store.thisamericanlife.org/\">Merch</a></li>\n",
       "<li><a href=\"/about/contact-us\">Contact Us</a></li>\n",
       "<li class=\"last\"><a href=\"/about/our-other-shows\">Our Other Shows</a></li>\n",
       "</ul></div></li>\n",
       "<li class=\"merch\"><a href=\"https://store.thisamericanlife.org/\">Merch</a></li>\n",
       "<li class=\"search\"><a href=\"/archive#keyword\"><span class=\"icon-search\"></span></a></li>\n",
       "<li class=\"social\"><h6>Follow Us</h6><div class=\"item-list\"><ul class=\"social\"><li class=\"first\"><a href=\"https://www.facebook.com/thislife\"><span class=\"icon-facebook\"></span></a></li>\n",
       "<li class=\"last\"><a href=\"https://twitter.com/thisamerlife\"><span class=\"icon-twitter\"></span></a></li>\n",
       "</ul></div></li>\n",
       "<li class=\"store desktop\"><a href=\"https://thisamericanlife.supercast.com?utm_campaign=lifepartners&amp;utm_source=talwebsite&amp;utm_medium=nav-top-button\">Life Partners</a></li>\n",
       "<li class=\"signup last\"><div id=\"mc_embed_signup\">\n",
       "<form action=\"//thisamericanlife.us2.list-manage.com/subscribe/post?u=231d7e24815c65f94bf421633&amp;id=09eaca450d\" class=\"validate\" id=\"mc-embedded-subscribe-form\" method=\"post\" name=\"mc-embedded-subscribe-form\" novalidate=\"\" target=\"_blank\">\n",
       "<div id=\"mc_embed_signup_scroll\">\n",
       "<div class=\"mc-field-group\">\n",
       "<label for=\"mce-EMAIL\">Subscribe to our newsletter</label>\n",
       "<input class=\"required email\" id=\"mce-EMAIL\" name=\"EMAIL\" placeholder=\"Email Address\" type=\"email\" value=\"\"/>\n",
       "</div>\n",
       "<div aria-hidden=\"true\" style=\"position: absolute; left: -5000px;\"><input name=\"b_231d7e24815c65f94bf421633_09eaca450d\" tabindex=\"-1\" type=\"text\" value=\"\"/></div>\n",
       "<div class=\"clear\"><input class=\"button form-submit\" id=\"mc-embedded-subscribe\" name=\"subscribe\" type=\"submit\" value=\"Go\"/></div>\n",
       "</div>\n",
       "</form>\n",
       "</div></li>\n",
       "</ul></div> </nav>\n",
       "</div>\n",
       "</header>\n",
       "<div id=\"top\">\n",
       "</div> <!-- /#top -->\n",
       "<div id=\"content\">\n",
       "<div class=\"column sidebar\" id=\"sidebar\">\n",
       "</div> <!-- /#sidebar-first -->\n",
       "<main id=\"main\">\n",
       "<div class=\"region region-content\">\n",
       "<div class=\"block block-system\" id=\"block-system-main\">\n",
       "<div class=\"content\">\n",
       "<article class=\"node node-transcript node-promoted view-full clearfix\" data-episode=\"1\" data-episode-id=\"37672\">\n",
       "<div class=\"transcript__meta\">\n",
       "<a class=\"full-episode goto goto-episode\" href=\"/1/new-beginnings\">\n",
       "<div class=\"label\"><span class=\"icon icon-arrow-left\"></span> Full episode</div>\n",
       "<img alt=\"\" height=\"240\" src=\"https://www.thisamericanlife.org/sites/default/files/styles/height_thumbnail/public/episodes/images/1.jpg?itok=aniSmWt4\" width=\"240\"/> </a>\n",
       "<a class=\"transcript__caption js-closed-caption ignore\"><span class=\"icon icon-closed_caption\"></span><span class=\"element-invisible\">Toggle Audio and Transcript Sync</span></a>\n",
       "</div>\n",
       "<header>\n",
       "<div class=\"meta\">Transcript</div>\n",
       "<a class=\"play play-1 play-transcript active\" data-episode=\"1\" data-id=\"37672\" data-type=\"episode\" href=\"/1/transcript\"><span class=\"icon icon-play\"></span><span class=\"icon icon-pause\"></span></a> <h1>1: New Beginnings</h1>\n",
       "<div class=\"field-name-field-notes\"><p>Note: This American Life is produced for the ear and designed to be heard. If you are able, we strongly encourage you to listen to the audio, which includes emotion and emphasis that's not on the page. Transcripts are generated using a combination of speech recognition software and human transcribers, and may contain errors. Please check the corresponding audio before quoting in print.</p></div> </header>\n",
       "<div class=\"content\">\n",
       "<div class=\"act\" id=\"prologue\">\n",
       "<h3>Prologue</h3>\n",
       "<div class=\"act-inner\">\n",
       "<div class=\"interviewer\"><h4>Ira Glass</h4><p begin=\"00:00:00.17\" data-timestamp=\"0.17\">Joe Franklin?</p></div><div class=\"subject\"><h4>Joe Franklin</h4><p begin=\"00:00:00.58\" data-timestamp=\"0.58\">I'm ready.</p></div><div class=\"interviewer\"><h4>Ira Glass</h4><p begin=\"00:00:01.39\" data-timestamp=\"1.39\">It's Ira Glass here.</p></div><div class=\"subject\"><h4>Joe Franklin</h4><p begin=\"00:00:02.84\" data-timestamp=\"2.84\">Oh, you're the emcee on the show, Ira.</p></div><div class=\"interviewer\"><h4>Ira Glass</h4><p begin=\"00:00:04.45\" data-timestamp=\"4.45\">I am the emcee on the show. Yes.</p></div><div class=\"subject\"><h4>Joe Franklin</h4><p begin=\"00:00:05.89\" data-timestamp=\"5.89\">Oh great. Ira? I-R-A, Ira?</p></div><div class=\"interviewer\"><h4>Ira Glass</h4><p begin=\"00:00:07.56\" data-timestamp=\"7.56\">Ira, I-R-A.</p></div><div class=\"subject\"><h4>Joe Franklin</h4><p begin=\"00:00:08.32\" data-timestamp=\"8.32\">Oh, great. Now hold on one second, Ira. Don't go away. Hello? [UNINTELLIGIBLE]. Call me after 3 o'clock. I have great news for you. Ira.</p></div><div class=\"interviewer\"><h4>Ira Glass</h4><p begin=\"00:00:18.83\" data-timestamp=\"18.83\">Yes.</p></div><div class=\"subject\"><h4>Joe Franklin</h4><p begin=\"00:00:19.29\" data-timestamp=\"19.29\">So listen, Tony. If the phone rings, take it in the back. And then come out and tell me who it is. Just say, Joe's being with a camera crew. Just for about 10 minutes. We'll do about five minutes, 10 minutes, right, Ira?</p></div><div class=\"interviewer\"><h4>Ira Glass</h4><p begin=\"00:00:33.14\" data-timestamp=\"33.14\">That's right.</p></div><div class=\"host\"><p begin=\"00:00:39.96\" data-timestamp=\"39.96\">Well, one great thing about starting a new show is utter anonymity. Nobody really knows what to expect from you. This interviewee did not know us from Adam.</p><p begin=\"00:00:54.89\" data-timestamp=\"54.89\">OK, we're what? About a minute. We're one minute five into the new show. Right now, it is stretching in front of us, a perfect future yet to be fulfilled. An uncharted little world. A little baby coming into the world, no little scars on it or anything.</p><p begin=\"00:01:12.16\" data-timestamp=\"72.16\">Nobody hearing my words right now is thinking, \"Oh, man, remember that show, back when it used to be good? That show, I never missed that show back in the old days, back in the first couple years before it got so-called popular. Back when it was still good.\"</p><p begin=\"00:01:31.13\" data-timestamp=\"91.13\">No, actually, I think that force, that human desire to say that is so strong, to say that \"I was there back when that show was good,\" that force is so strong, it is so basic to who we are as people that I know-- OK, what are we? We are two minutes into the program-- I know that somewhere out there, one or two of you are saying, \"Oh, sure. I used to listen to that show back in the first 30 seconds, back when it used to be really good. Remember back when they used to do all that crazy stuff? When they had that guy on the phone? Remember back then?\"</p><p begin=\"00:02:12.75\" data-timestamp=\"132.75\">Well, from WBEZ, in the glorious city of Chicago, Illinois. The name of this show is <i>Your</i> <i>Radio</i> <i>Playhouse.</i> I'm your emcee. I'm your emcee, Ira Glass.</p><p begin=\"00:02:35.34\" data-timestamp=\"155.34\">OK, the idea of this show, this new little show, is stories, some by journalists and documentary producers, like myself, some just regular people telling their own little stories, some by artists, and writers, and performers of all different kinds. And the idea is we're going to bring you stuff you're not going to find anywhere else. And there is also going to be music.</p><p begin=\"00:02:52.38\" data-timestamp=\"172.38\">And tonight's show, we thought that we would have a theme. Tonight's show is going to be New Beginnings. And to kick things off, I called the man who's had, as best as anybody can tell, the longest running program in the history of television. His name is Joe Franklin, and his program ran for 43 years on local television in New York. And he claims that he invented the talk show format. And I called him to get some advice on how to create a long-running, healthy program.</p></div><div class=\"subject\"><h4>Joe Franklin</h4><p begin=\"00:03:22.10\" data-timestamp=\"202.1\">I've been called in many times to give a sort of a Dean, the elder statesman, even though I'm still a young kid. But I've been called in to give this kind of advice to new kids on the block. Conan O'Brien had me on his first show. And people like that. There's no guidance. It's a matter of paying attention.</p><p begin=\"00:03:40.15\" data-timestamp=\"220.15\">Your voice, I've heard so much about the sparkle, about the energy in your voice. The voice, on radio especially, is everything. And when the guest is sitting with you, you've got to look into his eyes. Many times, you get an author on there who's begrudgingly sitting there. He'd rather be home in his ivory tower.</p><p begin=\"00:03:59.07\" data-timestamp=\"239.07\">And above all, get the plug fast. Otherwise, he's worried you're not going to make the plug for the book. And I created a line, Ira, that's been picked up by George Burns. I always said, the main ingredient for longevity in the talk show field, where the mortality rate is so staggering, the main ingredient is sincerity. And once you learn to fake that, then you got it made. I made that up. And I just played it by ear. I was a natural born talker, I guess.</p></div><div class=\"interviewer\"><h4>Ira Glass</h4><p begin=\"00:04:27.78\" data-timestamp=\"267.78\">So let me just summarize what I'm getting from you. You're saying you should just pay attention, look people in the eye, be sincere when I'm on the air, get in the plug early.</p></div><div class=\"subject\"><h4>Joe Franklin</h4><p begin=\"00:04:36.31\" data-timestamp=\"276.31\">That's the key. And don't look in their nose or their belly button. Look right in the eye. Eye contact is everything. And as I say, it's a lot of fun.</p><p begin=\"00:04:45.48\" data-timestamp=\"285.48\">And I never called anybody in my life to come on to my show. And I'm sure that they'll be coming to you too. I heard about you, and I called you and wanted to wish you good look, Ira. Imagine the thrill of John F. Kennedy walking into my studio. Richard Nixon. Ronald Reagan, five times. And Bing Crosby.</p><p begin=\"00:05:04.86\" data-timestamp=\"304.86\">And I've got a major book out right now, by the way, Ira, called <i>Up</i> <i>Late</i> <i>with</i> <i>Joe</i> <i>Franklin</i> from Simon &amp; Schuster. And if you find a copy in the store--</p></div><div class=\"interviewer\"><h4>Ira Glass</h4><p begin=\"00:05:14.36\" data-timestamp=\"314.36\">You see now, I guess I've sort of messed that one up, because I didn't let you get in your plug early.</p></div><div class=\"subject\"><h4>Joe Franklin</h4><p begin=\"00:05:19.08\" data-timestamp=\"319.08\">See, that is my fault. I got it in toward the bitter end. It's like Duke Ellington. He always used to have his dessert at the beginning of the meal. Duke Ellington said, because he would never have no room for it at the end. So he had his dessert at the beginning. Who is it? Well, no, good news, 6 o'clock.</p></div><div class=\"interviewer\"><h4>Ira Glass</h4><p begin=\"00:05:34.59\" data-timestamp=\"334.59\">Well, Joe Franklin, thank you very much for being with us on our premier show.</p></div><div class=\"subject\"><h4>Joe Franklin</h4><p begin=\"00:05:36.74\" data-timestamp=\"336.74\">Ira, I'm going to be a listener and a fan. And let's always be in touch.</p><p begin=\"00:05:40.49\" data-timestamp=\"340.49\">[MUSIC - \"DESTINATION MOON\" BY DINAH WASHINGTON]</p></div> </div>\n",
       "</div>\n",
       "<div class=\"act\" id=\"act1\">\n",
       "<h3>Act One: Act One</h3>\n",
       "<div class=\"act-inner\">\n",
       "<div class=\"host\"><h4>Ira Glass</h4><p begin=\"00:06:10.92\" data-timestamp=\"370.92\">All right, <i>Your</i> <i>Radio</i> <i>Playhouse.</i> All right. I'm making eye contact with you right-- wait, how does Joe put it? Wait a second.</p></div><div class=\"subject\"><h4>Joe Franklin</h4><p begin=\"00:06:16.82\" data-timestamp=\"376.82\">Look right in the eye. Eye contact is everything.</p></div><div class=\"host\"><h4>Ira Glass</h4><p begin=\"00:06:19.33\" data-timestamp=\"379.33\">I am making eye contact with you right now. That is just how much I have already learned. OK, so the thing about new beginnings is that there are the ones that we actually undertake and then there are the ones that we just wish for. And the ones that we wish for pretty much outnumber the ones that we really undertake.</p><p begin=\"00:06:41.60\" data-timestamp=\"401.6\">Well, Kevin Kelly spent most of his twenties wandering around Asia. He was basically wandering around as a freelance photographer. And he found himself photographing a lot of religious ceremonies and drawn to religious ceremonies of all sorts. And he says that he was really confused about what he believed. And he was the kind of person who had always dreamt about a new beginning, where he wouldn't struggle with these questions.</p></div><div class=\"host\"><h4>Kevin Kelly</h4><p begin=\"00:07:08.52\" data-timestamp=\"428.52\">I would get twisted and caught up. And these things were in the background, consuming me. And actually, I found that I could think about little else for many, many months, that behind all that I was doing, there was always this unresolved question of was God real. And if he was real, then how could we ignore him? And if we were trying to not ignore him, what would we do? And if he was real, then what about these other things that people said about God?</p></div><div class=\"host\"><h4>Ira Glass</h4><p begin=\"00:07:39.45\" data-timestamp=\"459.45\">We will not attempt to answer these questions, by the way, in this hour. I just want to just give you a sense of scope here, just modest scope. But what we want to talk about is what happened to Kevin Kelly. What happened is that at the age of 27, all of this changed when he came into Jerusalem on the eve of Easter and Passover. It was the same weekend. And flocks of people are coming into the city.</p></div><div class=\"host\"><h4>Kevin Kelly</h4><p begin=\"00:08:05.95\" data-timestamp=\"485.95\">So I entered Jerusalem on Easter with a simple expectation that I was going to photograph another religious ceremony, another religious festival. And then, for various reasons, I got locked out of my hostel room. They had a curfew. And I didn't make it back in time. And I was in quite a fix because I was a stranger in this very strange town. When it happened, I didn't have enough money to stay elsewhere, nor did I even have knowledge of where to go.</p><p begin=\"00:08:43.52\" data-timestamp=\"523.52\">So I wandered the Old Town of Jerusalem at night, which had been shuttered up and was like a time machine. It was as if I had been transported back to the 15th century, because all the souvenir vendors were gone, and what was left were the labyrinthian paths of cobbled passageways. And I wandered around for a number of hours, and it was getting colder. Eventually, I found myself at the one place that was still open, which was some of the churches. And particularly, after wandering around until about 2:00 or 3:00 in the morning, I finally settled into the Church of the Holy Scepter, which is called and viewed as the church built over the mound where Jesus Christ was crucified.</p><p begin=\"00:09:40.94\" data-timestamp=\"580.94\">And I was getting very tired. And there weren't many people around. And so eventually, I laid myself out on about the only flat area that was left, which was this marble slab underneath some pendants that had incense on them. And this was presumably the slab that commemorated the exact positioning of the crosses. So I slept there. I slept on the crucifixion spot on that night because it was the only place-- they had no place in the inn.</p><p begin=\"00:10:27.35\" data-timestamp=\"627.35\">I slept there until early morning, when the activity started to increase, and people started coming in. And I went out and followed the crowd where it was going when they were going out to the tombs area in Jerusalem. And I went out. And there were some folding chairs set up in front of this tomb area. And as the sun was coming up on that Easter morning, I was staring at empty tombs. And for a reason that I can not comprehend, as I sat on that chair contemplating this view of the early sun morning coming into the empty tombs, all that I had been wrestling with for the past many, many years in thinking about religion sort of became resolved in my mind. And at that very moment, I believed that Jesus Christ had, indeed, risen from those tombs.</p><p begin=\"00:11:44.27\" data-timestamp=\"704.27\">In an instant, the tension of trying to figure things out was resolved, because now, suddenly, everything was figured out. It was as if you had been working on a problem for a long time and suddenly the answer was there. And it was very clear that was the answer. And although there were many things that were still not clear to you, you were very certain that you were on the right path.</p><p begin=\"00:12:14.14\" data-timestamp=\"734.14\">Having that realization that I believe that Jesus Christ had actually risen from those tombs did not settle 1,001 other things about what one was supposed to do with that, what I was supposed to do with that. Did that mean I was supposed to be a monk? Did that mean I was supposed to be an evangelist?</p><p begin=\"00:12:32.12\" data-timestamp=\"752.12\">Did that mean that I had to immediately renounce all that I had, and get into sackcloths and ashes, and march out into the desert? All that was left unopened. And that is, in fact, what occupied my mind as I went back to my hostel to lay down and think about. Because I had no clue what it really meant to me ultimately, and that's what I was pondering when I was laying there napping. And I wouldn't say it was a voice, but there was an idea that came into my mind that just would not go away, and that was that I should live as if I would die in six months, that I should really, truly live. And that I could not tell for certain whether I would really die, but that either way, I should live as if I was going to die. And so that was the assignment.</p><p begin=\"00:13:35.72\" data-timestamp=\"815.72\">I'm a pretty rational person. I'm pretty logical. And after thinking the thought that I should live as if I was going to die in six months, the first thought that comes to my head was, \"Well, that's pretty silly. I have no evidence whatsoever. I could live like I'm going to die in six months and not die at all. It would just be an interesting exercise.\"</p><p begin=\"00:13:57.53\" data-timestamp=\"837.53\">But at the same time, it was equally probable that I might die in six months. It happened all the time. There was no guarantee that I wouldn't die. And so fairly quickly, I decided that I could not settle that issue of whether I would really die or not, or just think that I was going to die in six months, and that, in either case, the important thing was to live as if I really believed that I was going to die in six months, which is what I set out to do.</p><p begin=\"00:14:34.91\" data-timestamp=\"874.91\">The next couple days, I had the joyous experience of saying to myself, \"OK, what do I do for six months if I have only six months to live?\" And the answers to that surprised me as much as the assignment, because after thinking that through and contemplating it, the conclusion that I came to was that what I wanted to do for six months was to go home and be ordinary, to go back to my parents, to help them take out the trash, and trim the hedges, and move furniture around, and to be with them. And I was really shocked by that, because I thought that with six months to live, I would climb Mount Everest, or I would go scuba diving to the depths of the ocean, or get in a speedboat and see how fast I could go. But instead, I wanted to go back home and be with my family for that time.</p><p begin=\"00:15:43.69\" data-timestamp=\"943.69\">I, of course, did not tell anybody my crazy idea. This is, in fact, the first time I'm really talking about it publicly. Because it's a very scary and alarming idea. And I never told anybody why I was coming home.</p><p begin=\"00:16:15.27\" data-timestamp=\"975.27\">I got back to where my parents live in New Jersey, and things were unbelievably ordinary. And yet, I found myself relishing the ordinariness and finding it in some ways as exotic as anything that I had traveled to see. I helped around the house. I dug up shrubs. I worked on a deck. I moved furniture, washed dishes.</p><p begin=\"00:16:48.84\" data-timestamp=\"1008.84\">And I was intending to spend my last remaining six months at home getting to know my parents better and myself, hopefully. But about three months into that, my travel urges, I guess, got the better of me. And what I was most concerned about was I wanted to see my brothers and sisters. I had four brothers and sisters. And they were scattered all across the country. And so I felt very strongly that I wanted to see them before I died. And I got the idea that the way to see them was to ride my bicycle across the country and visit them on bicycle.</p><p begin=\"00:17:30.29\" data-timestamp=\"1050.29\">But before I did that, I made up a will to dispose of the little things that I had. And I had some money left over. And one of the things I did with that money was I went to the bank and got some cashier's checks for $500 and $1,000. And I mailed the money to various people anonymously as gifts. And I think giving away those thousands of dollars was the first true act of charity I had ever done. Because there was absolutely no way for any kind of gratitude or elevated feelings to come back to me, because the people had no idea who had sent them that money.</p><p begin=\"00:18:21.09\" data-timestamp=\"1101.09\">It was really remarkable to see the consequences of getting an anonymous gift like that. Because when you get a check for $1,000 in the mail, you immediately become suspicious of all your friends of having given that to you. And so there's this suspicion of charity, suspicion of goodness that starts to infect the people that are around you. And you look at someone, you think, \"Hm, I wonder if he gave me that $1,000?\"</p></div><div class=\"host\"><h4>Ira Glass</h4><p begin=\"00:18:57.16\" data-timestamp=\"1137.16\">Does that make sense? You look at them, and you think, \"I wonder if he gave me that $1,000?\" And then you act really nice to him. And then the next person you see, the next of your friends, you think, \"Could this be the person?\" And then you act really nice to them.</p><p begin=\"00:19:15.83\" data-timestamp=\"1155.83\">I almost want to begin a little speech here about let us all now take up this practice. All of us. Everyone within the sound of my voice. If we all could just do this right now, then I would believe that our little radio show, just 19 minutes into the program, had contributed in some way.</p></div><div class=\"host\"><h4>Kevin Kelly</h4><p begin=\"00:19:37.57\" data-timestamp=\"1177.57\">I had enough money left over to basically pay for food and whatnot on my bicycle journey across America. And the path that I had to visit all my brothers and sisters was not a direct route, going from San Francisco to New York. I actually had to go up to Idaho, and back down to Texas, and then back up through Indiana. So it was a 5,000 mile trip. The day which, coincidentally, was exactly six months from when I had this assignment, was October 31. It was Halloween. And so the plan would be that I would ride back home, so that I would come back to die on the day after Halloween.</p><p begin=\"00:20:31.72\" data-timestamp=\"1231.72\">I think there are a lot of people who have trouble staying in the present. There are some people who like to slip into the past as a means to perhaps fantasize or escape. And they find that the past is the place that they retreat to. And I often retreat to the future. I was not a person who planned or had a career staged out, or who had a particular woman he wanted to marry some day, or some vision of a house. The future that I found so hard to give up was a much more insidious type.</p><p begin=\"00:21:08.31\" data-timestamp=\"1268.31\">It was that of I'd like to buy this record because, in the future, I want to hear this song again and again. Or I will read this book, and there are some cool ideas in it because someday I may write an article about this. And it's good to know that. There was a sense in which my entire life was shifted to the future. And the thought of doing something now for the enjoyment, or the pleasures, or the principle of the function of just right now, without any sense at all that it would ever be used again or that it could ever be brought forward, was extremely difficult and disconcerting. And I fought it day by day and tooth by tooth.</p><p begin=\"00:22:04.73\" data-timestamp=\"1324.73\">One of the ways I dealt with this was that I was actually able, by the last weeks, to not think about my life beyond Halloween. There was a way which I had just-- each time a thought came up about something that was beyond this horizon, I just said, \"Nope, can't think about it. It doesn't work. We have to dwell in the present.\"</p><p begin=\"00:22:30.06\" data-timestamp=\"1350.06\">And at the same time I was doing that, and I was able to do that, I also decided that it was an entirely unnatural and inhumane way to live. And that having a future is part of what being human is about. And that when you take away the future for humans, you take away a lot of their humanness. And that it's not actually a very good thing to live entirely in the present. That one needs to have a past, and one needs to have a future to be fully human.</p><p begin=\"00:23:16.66\" data-timestamp=\"1396.66\">It was a journey that began at the tomb of Jesus. And as I set off to my own presumed death, I did, indeed, think about Jesus Christ who, according to the Gospels, surrendered his own life in a very knowing way. So we have the history in the Gospels of Jesus's torment in his soul, as he approached what he knew of his anointed time to die. So it was, again, that very harsh information of knowing when you're going to die.</p><p begin=\"00:24:00.09\" data-timestamp=\"1440.09\">And Jesus's soul was in great turmoil and pain because of knowing that. And I think I did experience some of that, not because I had the same weight. It was just my own life. But Jesus prayed that this burden be lifted, and there were days when I did pray that, that if I didn't have to die, I really would rather not.</p><p begin=\"00:24:41.35\" data-timestamp=\"1481.35\">By late fall, I was pedaling through the Appalachians, and it was getting colder and colder. And my hands were freezing on the bicycles, and there was ice on my tents in the morning when I got up. And as each day went on, I was coming closer and closer to terrain that I was familiar with and that felt like home. And I was riding into New Jersey, and I was elated. I was elated that I had accomplished this long journey. And I was elated that I was home to see my parents.</p><p begin=\"00:25:14.23\" data-timestamp=\"1514.23\">And I came in to their house on Halloween day. And I was so filled with ideas, and things, and emotions, that I didn't really say very much. And again, I couldn't say very much. I think we had a wonderful dinner. They were, of course, glad to see me because they hadn't seen me in a long time. They knew I was coming back, and we had a wonderful dinner.</p><p begin=\"00:25:39.93\" data-timestamp=\"1539.93\">We had baskets of candy, which I gave out to the kids. And we had a discussion that night which was about nothing in particular. It was not about the future. It was just about, I think, talking about our family and my brothers and sisters. And I was telling them all that I  had learned about them. And so it was a very together and, again, not a very dramatic evening, but just a pleasant one, one that you might have a memory about as you were dying, which was not a special evening, but just an ordinary evening.</p><p begin=\"00:26:17.33\" data-timestamp=\"1577.33\">And I went to bed that night, which was a very difficult thing to do because I was fully prepared at that point never to wake up again. I had been praying. I had gotten everything arranged. I had fully gone through in my own mind, in my own soul, all the things that I might have regretted. And I had righted as many of those as I thought I could through letters. And I was prepared, as much as anybody could be prepared to die.</p><p begin=\"00:26:50.23\" data-timestamp=\"1610.23\">And so I went to bed while the kids were still ringing doorbells. And I went to sleep, because I was very tired after that long trip. And I didn't know what was going to happen the next day. I thought I had done all that I could. And the next morning, I woke up. And the next morning, I woke up, and it was as if-- The next morning I woke up, and it was as if I had the entire-- my entire life again.</p><p begin=\"00:27:39.83\" data-timestamp=\"1659.83\">The next morning, I woke up, and I had my entire life again. I had my future again. There was nothing special about the day. It was another ordinary day. I was reborn into ordinariness. But what more could one ask for?</p></div><div class=\"host\"><h4>Ira Glass</h4><p begin=\"00:28:24.52\" data-timestamp=\"1704.52\">Well, Kevin Kelly is 43 now. That happened when he was 27. In his latest rebirth, he is the executive editor of <i>Wired</i> magazine, a glossy magazine about the future and the present. He told us that he wasn't even sure he has ever even told his parents this story, even this many years later. Anyway, he spoke with me and Paul Tough from the studios of KQED in San Francisco. This is <i>Your</i> <i>Radio</i> <i>Playhouse</i> on WBEZ Chicago.</p></div> </div>\n",
       "</div>\n",
       "<div class=\"act\" id=\"act2\">\n",
       "<h3>Act Two: Act Two</h3>\n",
       "<div class=\"act-inner\">\n",
       "<div class=\"subject\"><h4>Receptionist</h4><p begin=\"00:29:51.94\" data-timestamp=\"1791.94\">Good morning. Glass, Jacobson &amp; Associates.</p></div><div class=\"interviewer\"><h4>Ira Glass</h4><p begin=\"00:29:53.94\" data-timestamp=\"1793.94\">Hey, is Barry there?</p></div><div class=\"subject\"><h4>Receptionist</h4><p begin=\"00:29:55.38\" data-timestamp=\"1795.38\">Pardon me?</p></div><div class=\"interviewer\"><h4>Ira Glass</h4><p begin=\"00:29:55.87\" data-timestamp=\"1795.87\">Is Barry there?</p></div><div class=\"subject\"><h4>Receptionist</h4><p begin=\"00:29:56.99\" data-timestamp=\"1796.99\">Yes, he is. He's on another call. Do you wish to hold, or I could take a message, or you can leave one on his voicemail?</p></div><div class=\"interviewer\"><h4>Ira Glass</h4><p begin=\"00:30:04.42\" data-timestamp=\"1804.42\">It's his son.</p></div><div class=\"subject\"><h4>Receptionist</h4><p begin=\"00:30:05.70\" data-timestamp=\"1805.7\">Uh-huh.</p></div><div class=\"host\"><h4>Ira Glass</h4><p begin=\"00:30:07.05\" data-timestamp=\"1807.05\">Isn't this starting to sound like-- this little dialogue-- isn't it starting to sound like an episode of <i>Dr.</i> <i>Katz?</i> You know that TV show? \"This is his son.\" \"Uh-huh. Yeah.\" Anyway, so I thought I would call my parents in Baltimore and ask for advice on this, our first evening of our brand new radio show, <i>Your</i> <i>Radio</i> <i>Playhouse.</i></p></div><div class=\"interviewer\"><h4>Ira Glass</h4><p begin=\"00:30:27.12\" data-timestamp=\"1827.12\">Can I leave a message with you? Or is it better to use his voicemail?</p></div><div class=\"subject\"><h4>Receptionist</h4><p begin=\"00:30:30.40\" data-timestamp=\"1830.4\">It doesn't matter. I'll put it right on his voicemail.</p></div><div class=\"interviewer\"><h4>Ira Glass</h4><p begin=\"00:30:32.70\" data-timestamp=\"1832.7\">OK, let's do.</p></div><div class=\"subject\"><h4>Receptionist</h4><p begin=\"00:30:33.40\" data-timestamp=\"1833.4\">OK, hold on, please.</p><p begin=\"00:30:34.93\" data-timestamp=\"1834.93\">[MUSIC - \"NICE 'N' EASY\" BY FRANK SINATRA]</p></div><div class=\"host\"><h4>Ira Glass</h4><p begin=\"00:30:39.64\" data-timestamp=\"1839.64\">This is the story of my childhood right there. Dad is a little too busy to talk. But there's the recording of Frank Sinatra when needed.</p><p begin=\"00:30:50.32\" data-timestamp=\"1850.32\">[TELEPHONE RINGING]</p></div><div class=\"subject\"><h4>Shirley Glass</h4><p begin=\"00:30:52.73\" data-timestamp=\"1852.73\">Hello?</p></div><div class=\"interviewer\"><h4>Ira Glass</h4><p begin=\"00:30:53.09\" data-timestamp=\"1853.09\">Hey, Mom.</p></div><div class=\"subject\"><h4>Shirley Glass</h4><p begin=\"00:30:54.09\" data-timestamp=\"1854.09\">Oh, hi, Ira.</p></div><div class=\"interviewer\"><h4>Ira Glass</h4><p begin=\"00:30:54.82\" data-timestamp=\"1854.82\">How you doing?</p></div><div class=\"subject\"><h4>Shirley Glass</h4><p begin=\"00:30:55.56\" data-timestamp=\"1855.56\">Fine. Can you hold on a second?</p></div><div class=\"interviewer\"><h4>Ira Glass</h4><p begin=\"00:30:56.77\" data-timestamp=\"1856.77\">Sure.</p><p begin=\"00:31:01.32\" data-timestamp=\"1861.32\">This is what it's like with my parents. They're so busy. Call them. Put on hold. [SINGING] Baby, what's your hurry?</p><p begin=\"00:31:18.40\" data-timestamp=\"1878.4\">When I call my little sister, she works at Disney, and so there's Disney music playing on the hold system. But there's a lot of Disney music. And there's a lot of it that peo--</p></div><div class=\"subject\"><h4>Shirley Glass</h4><p begin=\"00:31:28.46\" data-timestamp=\"1888.46\">Hi.</p></div><div class=\"interviewer\"><h4>Ira Glass</h4><p begin=\"00:31:28.75\" data-timestamp=\"1888.75\">Hi, Mom.</p></div><div class=\"subject\"><h4>Shirley Glass</h4><p begin=\"00:31:29.82\" data-timestamp=\"1889.82\">Yeah.</p></div><div class=\"interviewer\"><h4>Ira Glass</h4><p begin=\"00:31:31.00\" data-timestamp=\"1891\">It's me.</p></div><div class=\"subject\"><h4>Shirley Glass</h4><p begin=\"00:31:31.62\" data-timestamp=\"1891.62\">Yeah.</p></div><div class=\"interviewer\"><h4>Ira Glass</h4><p begin=\"00:31:33.07\" data-timestamp=\"1893.07\">Listen, can I record a quick conversation with you about something?</p></div><div class=\"subject\"><h4>Shirley Glass</h4><p begin=\"00:31:38.16\" data-timestamp=\"1898.16\">What about?</p></div><div class=\"interviewer\"><h4>Ira Glass</h4><p begin=\"00:31:39.12\" data-timestamp=\"1899.12\">Well, you know the new show goes on the air this week. And as part of the show, we were thinking about having me call around to different people and get advice from them. And I wanted to know if you would have any advice.</p></div><div class=\"subject\"><h4>Shirley Glass</h4><p begin=\"00:31:53.84\" data-timestamp=\"1913.84\">Hm. Do I have any advice? Well, can I ask another question?</p></div><div class=\"interviewer\"><h4>Ira Glass</h4><p begin=\"00:32:01.49\" data-timestamp=\"1921.49\">Sure.</p></div><div class=\"subject\"><h4>Shirley Glass</h4><p begin=\"00:32:02.15\" data-timestamp=\"1922.15\">Who is your target audience?</p></div><div class=\"interviewer\"><h4>Ira Glass</h4><p begin=\"00:32:04.58\" data-timestamp=\"1924.58\">You are such a pro.</p></div><div class=\"subject\"><h4>Shirley Glass</h4><p begin=\"00:32:08.72\" data-timestamp=\"1928.72\">I'm saying that you're in danger of appealing to a narrow range of listeners if it becomes a little too-- I don't know what word to use.</p></div><div class=\"interviewer\"><h4>Ira Glass</h4><p begin=\"00:32:21.00\" data-timestamp=\"1941\">Artsy.</p></div><div class=\"subject\"><h4>Shirley Glass</h4><p begin=\"00:32:21.77\" data-timestamp=\"1941.77\">Artsy, yeah.</p></div><div class=\"interviewer\"><h4>Ira Glass</h4><p begin=\"00:32:24.48\" data-timestamp=\"1944.48\">Are you and Dad still worried about me making a living in public radio? I know just for years, you were urging me to just get out and get, basically, any job in TV that I possibly could. But now that I've got my own show, are you guys still worried? Or do you feel like things are going OK? Do you want me to get into television still?</p></div><div class=\"subject\"><h4>Shirley Glass</h4><p begin=\"00:32:45.22\" data-timestamp=\"1965.22\">Now that Hugh Grant is such a big star, and everybody who sees you or sees your picture thinks how much you look like Hugh Grant, that fires up that TV thing again in me.</p></div><div class=\"host\"><h4>Ira Glass</h4><p begin=\"00:32:57.39\" data-timestamp=\"1977.39\">All right. I'm stopping the tape. This is me live. That was the tape. Only my mother could possibly believe this. Only a mother could pretty much believe this. Other adults see me, and the thought that goes through their head is not Hugh Grant. The thought that goes through their head is tall Jew.</p></div><div class=\"subject\"><h4>Shirley Glass</h4><p begin=\"00:33:19.14\" data-timestamp=\"1999.14\">Well, gosh, wouldn't they want this wonderful humanistic, intelligent reporter who looks like Hugh Grant?</p></div><div class=\"host\"><h4>Ira Glass</h4><p begin=\"00:33:31.31\" data-timestamp=\"2011.31\">All right. Yeah, let's move on.</p></div><div class=\"subject\"><h4>Shirley Glass</h4><p begin=\"00:33:32.30\" data-timestamp=\"2012.3\">What's the theme for this week?</p></div><div class=\"interviewer\"><h4>Ira Glass</h4><p begin=\"00:33:33.56\" data-timestamp=\"2013.56\">The theme for this week is new beginnings. And we have several stories, people telling about various ways in which their life began anew at some point.</p></div><div class=\"subject\"><h4>Shirley Glass</h4><p begin=\"00:33:45.04\" data-timestamp=\"2025.04\">That's very interesting, because I just did an interview this morning with a newspaper reporter about roman--</p></div><div class=\"host\"><h4>Ira Glass</h4><p begin=\"00:33:50.50\" data-timestamp=\"2030.5\">I'm just going to stop the tape again. This is my whole life. I call my mom for an interview, and it's not even her first interview of the day. I was lucky to get a booking. She's a therapist, and sometimes she gets called by the papers and stuff.</p></div><div class=\"subject\"><h4>Shirley Glass</h4><p begin=\"00:34:08.26\" data-timestamp=\"2048.26\">--mance, romantic love. And people's expectations about relationships. And one of the things I believe is that there are a lot of people who are good at beginnings, but they're not good at middles.</p></div><div class=\"interviewer\"><h4>Ira Glass</h4><p begin=\"00:34:21.63\" data-timestamp=\"2061.63\">Which means what?</p></div><div class=\"subject\"><h4>Shirley Glass</h4><p begin=\"00:34:22.35\" data-timestamp=\"2062.35\">It means that they like the beginning, where there's all this idealization and romantic projections. And the other person can be who they think they should be, rather than who they are. And when they get to the middle phase--</p></div><div class=\"host\"><h4>Ira Glass</h4><p begin=\"00:34:34.72\" data-timestamp=\"2074.72\">All right. I'm just going to stop the tape. Listen, all of you in the audience right now, let's just agree right now, it's the very beginning of our relationship. It's the very beginning of our radio relationship right now. This is our little first little radio date, and I just don't want any idealizing on either side. OK? Let's just make eye contact right now. Remember what Joe Franklin said about the eye contact. No idealizing.</p></div><div class=\"subject\"><h4>Shirley Glass</h4><p begin=\"00:34:55.72\" data-timestamp=\"2095.72\">--where there's more of a reality-based relationship, they run away from it because it's not as exciting.</p></div><div class=\"interviewer\"><h4>Ira Glass</h4><p begin=\"00:35:04.11\" data-timestamp=\"2104.11\">It's interesting that you say that because, actually, as we've approached the first show, I've realized that I am much more comfortable with the notion of every day, work-a-day radio work, and being on every week, and having pieces on the air. But the notion of saying in a really big way, \"OK, this is the beginning. It's the beginning, and we're going to have a big beginning, and we're going to make an epic statement,\" I feel very uncomfortable with.</p></div><div class=\"subject\"><h4>Shirley Glass</h4><p begin=\"00:35:32.86\" data-timestamp=\"2132.86\">So you are good at middles.</p></div><div class=\"interviewer\"><h4>Ira Glass</h4><p begin=\"00:35:33.64\" data-timestamp=\"2133.64\">I'm better, I think, at middles than at beginnings.</p></div><div class=\"subject\"><h4>Shirley Glass</h4><p begin=\"00:35:36.65\" data-timestamp=\"2136.65\">That's good. That's good because practically all of life is the middle.</p></div><div class=\"interviewer\"><h4>Ira Glass</h4><p begin=\"00:35:41.81\" data-timestamp=\"2141.81\">We have gotten so deep here. I never expected that it was going to get so deep. I'm just very pleased at how deep this has gotten. Now you're sitting there, you're thinking, \"Is he making fun of me? What's happening now? Where are you?\" No, I'm not. I'm not, actually. I'm not. I'm not. I'm not. You have nothing to worry about.</p></div><div class=\"subject\"><h4>Shirley Glass</h4><p begin=\"00:36:05.55\" data-timestamp=\"2165.55\">Are we going to get a tape of this since we're outside the Chicago listening area?</p></div><div class=\"interviewer\"><h4>Ira Glass</h4><p begin=\"00:36:10.16\" data-timestamp=\"2170.16\">Depending on how you sound, yeah.</p></div><div class=\"subject\"><h4>Shirley Glass</h4><p begin=\"00:36:12.15\" data-timestamp=\"2172.15\">OK.</p></div><div class=\"host\"><h4>Ira Glass</h4><p begin=\"00:36:14.26\" data-timestamp=\"2174.26\">Well, that's my mom, Shirley Glass, speaking to us from Baltimore. I don't think she's going to get a tape. I do not think she's going to get a tape.</p></div> </div>\n",
       "</div>\n",
       "<div class=\"act\" id=\"act3\">\n",
       "<h3>Act Three: Act Three</h3>\n",
       "<div class=\"act-inner\">\n",
       "<div class=\"host\"><h4>Ira Glass</h4><p begin=\"00:36:25.91\" data-timestamp=\"2185.91\">Well, next on our little playhouse stage, we have Mr. Lawrence Steger. Now those of you who have been listening carefully to our program and taking notes, and I know there are many of you out there, you know what I'm supposed to do at this point. You know because you were listening carefully to Joe Franklin at the very beginning of our program.</p></div><div class=\"subject\"><h4>Joe Franklin</h4><p begin=\"00:36:42.55\" data-timestamp=\"2202.55\">Above all, get the plug fast.</p></div><div class=\"host\"><h4>Ira Glass</h4><p begin=\"00:36:44.40\" data-timestamp=\"2204.4\">That's right. Well, thank you, Joe Franklin. Lawrence Steger is a filmmaker and a performance artist, just back from performing in Glasgow, Scotland. He's going back there in January to collaborate with the performance artist, Ron Athey, who lives here in Chicago. And basically, we contacted Lawrence, and we told him the story that you heard over the course of the last half-hour, Kevin Kelly's story, this guy who believes he only has six months to live, goes on this cross-country road trip.</p><p begin=\"00:37:06.54\" data-timestamp=\"2226.54\">And as it turned out, when Lawrence Steger found out, the day that he found out that he was HIV positive, this was five years ago, on that day, it was the exact day that he and a friend left on a cross-country car trip. So we commissioned him to do a little piece about his experience. And here it is.</p></div><div class=\"host\"><h4>Lawrence Steger</h4><p begin=\"00:37:32.61\" data-timestamp=\"2252.61\">Title. <i>Road.</i> Treatment. It's shot entirely on video, mostly handheld. Shaky, out of focus, bad color. Overblown color actually. Sort of the way colors are separated on an old television console, yet still has all the outlines of the images repeated. The outlines of the images, the silhouettes, repeated over and over, ad nauseam, and fading into each other.</p><p begin=\"00:38:03.88\" data-timestamp=\"2283.88\">Can I get this microphone adjusted a little, so I don't have to lean over so much?</p></div><div class=\"host\"><h4>Ira Glass</h4><p begin=\"00:38:07.20\" data-timestamp=\"2287.2\">Yeah, sure. Just pull that.</p></div><div class=\"host\"><h4>Lawrence Steger</h4><p begin=\"00:38:09.93\" data-timestamp=\"2289.93\">Check one, two, three. Sound better? Yeah. Sorry. Thanks.</p><p begin=\"00:38:18.11\" data-timestamp=\"2298.11\">Synopsis. The story concerns Luke, gay, white, Midwestern, late twenties. Follows Luke on the day that he is informed of his HIV positive status. Luke cops a stance of cold, brittle, not unlike the Harrison Ford narration on <i>Blade</i> <i>Runner,</i> but there's a hint of vulnerability to Luke.</p><p begin=\"00:38:41.10\" data-timestamp=\"2321.1\">Have we got the Harrison Ford or the Rutger Hauer voice?</p></div><div class=\"host\"><h4>Ira Glass</h4><p begin=\"00:38:43.73\" data-timestamp=\"2323.73\">Yeah.</p></div><div class=\"host\"><h4>Lawrence Steger</h4><p begin=\"00:38:44.67\" data-timestamp=\"2324.67\">Great. Roll it.</p></div><div class=\"subject\"><h4>Harrison Ford</h4><p begin=\"00:38:47.66\" data-timestamp=\"2327.66\">Enhance 5719. Track 45 left.</p></div><div class=\"host\"><h4>Lawrence Steger</h4><p begin=\"00:38:54.92\" data-timestamp=\"2334.92\">Great. Take it under me. That's great. Story follows Luke. He's accompanied by his college buddy, Bill, and both are packed for a road trip across the country to San Francisco.</p><p begin=\"00:39:09.98\" data-timestamp=\"2349.98\">This isn't the right section of <i>Blade</i> <i>Runner.</i> Can you just kill the <i>Blade</i> <i>Runner?</i></p><p begin=\"00:39:14.79\" data-timestamp=\"2354.79\">Locations. Car interior. Gas station exterior. HIV clinic parking lot. HIV clinic interior. Highway. Music. Strauss's four last songs, particularly \"Ruhe, meine Seele!\" sung by Dame Janet Baker.</p><p begin=\"00:39:36.82\" data-timestamp=\"2376.82\">Can you take it under me? Hold.</p><p begin=\"00:39:42.01\" data-timestamp=\"2382.01\">Follows Luke and his friend Bill to the gas station and to the clinic, the last stop before getting on the highway.</p><p begin=\"00:39:51.14\" data-timestamp=\"2391.14\">OK. Take it out. Take out the Janet Baker.</p><p begin=\"00:39:55.25\" data-timestamp=\"2395.25\">Bill loads one hits of pot while driving on the way to the gas station and to the clinic.</p><p begin=\"00:40:02.26\" data-timestamp=\"2402.26\">Can we nix that Strauss music? It's too mournful. There's really no music on the soundtrack. It's stark, crisp. Maybe some songs coming from the radio at the clinic's desk?</p><p begin=\"00:40:19.06\" data-timestamp=\"2419.06\">[RADIO STATIC]</p></div><div class=\"host\"><p begin=\"00:40:19.88\" data-timestamp=\"2419.88\">Great. And definitely from the car radio mixed with surfing on an AM radio. No music.</p><p begin=\"00:40:30.56\" data-timestamp=\"2430.56\">The drama is constantly being undermined through the cool, collective quality of Luke's demeanor. He seems detached, quote, \"I am not sure how I feel. I feel a little sad, sort of mad. I guess blank. But I'm OK. I'm sure I'll get a handle on it,\" end quote. Luke thinks he's sounding like a short story assignment in a creative writing class or, worse, trapped inside an artsy novel.</p><p begin=\"00:41:05.40\" data-timestamp=\"2465.4\">Luke imagines himself in a television dramatization of himself. Camera pulls back from behind Luke's head, sort of on a mini-crane. Camera floats, hovers over the back of Luke's head. \"The ceiling of the car must be incredibly high,\" he thinks to himself.</p><p begin=\"00:41:26.04\" data-timestamp=\"2486.04\">Bill pulls into the closest parking spot in the clinic, blows out the last of the one-hit, and, as he's knocking the brass pipe into the ashtray, turns to Luke with that slightly watery look in his eyes from too much intake. Luke takes it as one of those Care Bear looks that he's experienced before from Bill. A little clumsy since Bill has to force his face into a sympathetic posture. Quick close-up on the corner of Bill's mouth.</p><p begin=\"00:41:58.12\" data-timestamp=\"2518.12\">There's a moment of anger flashing in Luke when he registers Bill's look. When Bill asks him, \"What are you thinking about?\" Luke responds, \"Who's thinking? Nothing.\" \"I hate thinking I'm in a novel,\" he thinks to himself. Cut to interior of the clinic, the reception area.</p><p begin=\"00:42:25.37\" data-timestamp=\"2545.37\">Can we change this sound bed here?</p><p begin=\"00:42:29.32\" data-timestamp=\"2549.32\">[ROMANTIC MUSIC PLAYING]</p></div><div class=\"host\"><p begin=\"00:42:32.27\" data-timestamp=\"2552.27\">Great. Take it down just a-- Great.</p><p begin=\"00:42:40.52\" data-timestamp=\"2560.52\">In the scene that we talked about on the phone, the clinic waiting room scene, that scene flips back and forth between various security black-and-white cameras mounted at the ceilings. The nurse assigned to Luke's anonymous number is a black drag queen named Stephanie, who wears a full nurse's outfit complete with a little paper hat that sits atop of her freshly coiffed hairdo. She's the only one in the clinic who wears a real uniform. Stephanie has the longest fingernails that Luke has ever seen on anyone. Luke thinks briefly about how the fingernails keep on growing even after a person dies, but he pushes that thought away with this fingers to his forehead, wonders why he is thinking about that. It's that novel thing again.</p><p begin=\"00:43:34.49\" data-timestamp=\"2614.49\">Stephanie, the drag queen nurse, walks Luke back to the small cubicles that the tests are administered in and then used to relay the results. Luke's narrator imagines how many people have been in these cubicles and what they would look like if they were all piled on top of one another. Piles of tested bodies. Cut to Stephanie closing the hollow core door, makes that hollow core door sound.</p><p begin=\"00:44:03.68\" data-timestamp=\"2643.68\">Do we have that on cart?</p><p begin=\"00:44:05.72\" data-timestamp=\"2645.72\">[SOUND OF HOLLOW DOOR CLOSING]</p></div><div class=\"host\"><p begin=\"00:44:07.53\" data-timestamp=\"2647.53\">Perfect. Maybe a shot from a security camera that shows all of the cubicles in the clinic. Luke imagines himself in a George Tooker painting that was reproduced in his sixth grade reader. He wonders what his sixth grade teacher would think of Stephanie. He wonders if his sixth grade teacher was ever tested. He imagines her body in the pileup of bodies who have come to the clinic.</p><p begin=\"00:44:34.23\" data-timestamp=\"2674.23\">Stephanie has been saying something, and Luke has to blink his eyes again to refocus. He explains to Stephanie that he has been expecting this result, that he's experienced a large share of AIDS, cared for, and, likewise, buried lots of his friends. But it doesn't seem to come as a surprise. Stephanie says, \"You can cry or hold my hand. I just want you to sit for a moment and let it sink in.\" Luke thinks, \"Whatever.\"</p><p begin=\"00:45:03.59\" data-timestamp=\"2703.59\">Cut to Bill in waiting room, flipping through <i>People</i>'s <i>The</i> <i>Year</i> <i>in</i> <i>Pictures.</i> Cut back to close-up of Luke, forehead wrinkled. He thinks his narrator wants him to get out of the cubicle. He waits for Stephanie to finish her spiel, thanks her, and shakes her hand, getting a slight scrape from one of the fingernails. Close-up on Luke's hand, no scratch. The walls seem to pulsate as Luke walks down the hallway to the reception area. He tries to be as blank as possible to Bill.</p><p begin=\"00:45:39.07\" data-timestamp=\"2739.07\">I'm not sure about this final section. I know that we talked about it ending on the highway with the car being surrounded by bikers on their way to the Sturgis bikers' rally. But now I like the idea of it ending on the highway entrance ramp.</p><p begin=\"00:45:55.07\" data-timestamp=\"2755.07\">Cut to interior of car pulling out of parking lot. Luke keeps looking straight ahead, as he murmurs, \"I'm positive.\" Long, slow pan from the back of Luke's head to the back of Bill's. There's no reaction in either of their faces or, better, the profiles of their faces. This is the longest shot. They don't look at each other.</p><p begin=\"00:46:27.25\" data-timestamp=\"2787.25\">Perhaps this scene would be shot in blue screen with the camera in the backseat and the sky surrounding the two heads of Bill and Luke having that old, scratchy, 16 millimeter time lapse exposure, so the clouds seem to be moving at a rapid pace. Flickers, flips back and forth between real sky and blue screen backdrop. Voice comes up on a car radio. \"Trying not to think of the future. Just live in the present moment.\" Something like that. You got that? It comes onto the radio.</p></div><div class=\"subject\"><h4>Kevin Kelly</h4><p begin=\"00:46:58.84\" data-timestamp=\"2818.84\">I also decided that it was an entirely unnatural and inhumane way to live, and that having a future is part of what being human is about, and that when you take away the future for humans, you take away a lot of the humanness, and that it's not actually a very good thing to live entirely in the present, that one needs to have a past.</p></div><div class=\"host\"><h4>Lawrence Steger</h4><p begin=\"00:47:19.68\" data-timestamp=\"2839.68\">Luke comments to Bill, \"Live entirely in the present, huh?\" Bill drives and looks out the corner of his right eye to see what position Luke is holding his head in. Luke looks outside passenger window and, every once in a while, turns to glance at Bill. Long pause. There's dead air. Cut to Luke's point of view. Car is pulling onto entrance ramp of highway. Luke sees hitchhiker with a sign that he stands for any remote meaning to the narrative. Luke sees himself outside of his own story. He can't read the hitchhiker's sign. He knows that he's on a long silent journey. He leans over to turn off the radio. Cut to black.</p><p begin=\"00:48:24.23\" data-timestamp=\"2904.23\">[MUSIC - \"(UH-OH) GET OUT OF THE CAR\" BY THE TRENIERS]</p></div><div class=\"host\"><h4>Ira Glass</h4><p begin=\"00:49:39.23\" data-timestamp=\"2979.23\">Well, Lawrence Steger is a Chicago performance artist and filmmaker.</p></div> </div>\n",
       "</div>\n",
       "<div class=\"act\" id=\"act4\">\n",
       "<h3>Act Four: Act Four</h3>\n",
       "<div class=\"act-inner\">\n",
       "<div class=\"host\"><h4>Ira Glass</h4><p begin=\"00:49:45.65\" data-timestamp=\"2985.65\">This is <i>Your</i> <i>Radio</i> <i>Playhouse.</i> I'm Ira Glass. OK, what am I doing right now? What am I doing right now? That's right. That's right. Eye contact.</p></div><div class=\"subject\"><h4>Joe Franklin</h4><p begin=\"00:49:55.32\" data-timestamp=\"2995.32\">Look right in the eye. Eye contact is everything.</p></div><div class=\"host\"><h4>Ira Glass</h4><p begin=\"00:49:57.66\" data-timestamp=\"2997.66\">That's right. Advice from the master. OK. Let's review our program so far. Let's just review. Let's just get things straight right now. Our stories so far have been about people whose futures were taken from them and were thrown into the present in one way or another.</p><p begin=\"00:50:14.76\" data-timestamp=\"3014.76\">I guess when any big emotional moment happens, you are thrown in the present in a really aggressive, aggressive way, whether you choose to or not. You have this hyper sense of reality. Well, the next story is about someone whose future was taken from him when he was wrongly imprisoned for 20 years. And his sentence was commuted two years ago. And he found himself reborn into everyday life.</p></div><div class=\"subject\"><h4>Ed Ryder</h4><p begin=\"00:50:44.83\" data-timestamp=\"3044.83\">It was like I just-- I don't know. It seemed like the oxygen was even different. You know what I mean? The air seemed to be thinner.</p><p begin=\"00:50:55.55\" data-timestamp=\"3055.55\">I'll tell you what's been a real kick for me, getting up, cooking breakfast. Making pancakes, and eggs, and bacon, and stuff like that. It sounds drab maybe to the common-- everybody would think of that as, \"That's really drab.\" But for me, that's really exciting. And that's one of the things I always dreamed of doing. I also dreamt of finding a very lovely lady, and I have. Inside, I'm happy. Inside.</p></div><div class=\"host\"><h4>Ira Glass</h4><p begin=\"00:51:23.90\" data-timestamp=\"3083.9\">This is Ed Ryder. He was in prison for murder and was doing time in Graterford Prison in Pennsylvania. And a few years ago, a key witness who had testified against him admitted to lying while under oath, and other evidence came forward. He was made a free man. Back when he was in Graterford Prison, he played trumpet, and he sang with a jazz band. And that whole time, he dreamed of this new life, a new life that he would have outside as a professional musician. And that's what he's working on. That's what he's working on right now. And he's playing. He doesn't have a CD yet, but he's playing gigs in the real world.</p></div><div class=\"subject\"><h4>Ed Ryder</h4><p begin=\"00:52:05.08\" data-timestamp=\"3125.08\">The first time I played, when I got out of prison, I didn't feel compelled to be so exact like I did when I was at Graterford. Inmates are the worst, critical people in the world. They criticize anything you do. In prison, you have a lot of musicians. After all, musicians, they don't make no money, so I guess the first place you find them at is in prison. But you have a lot of guys who are musicians.</p><p begin=\"00:52:30.71\" data-timestamp=\"3150.71\">And even though they might not be actively playing anymore, they'll be quick to criticize you, whether the chord is not right, or whether you didn't flatten the ninth, whether you didn't raise this fifth, or you guys didn't play the changes right. Although it might not have took away from the structure of the music, it's just that, I guess you can say that prisoners have a tendency to think like classical musicians would. Everything has to be perfect and exact the way it's heard. And everything has to be like that. There's no going against the grain.</p><p begin=\"00:53:04.73\" data-timestamp=\"3184.73\">And here, in the world, people are a little different. They don't concern themselves so much with that, as much as how are you entertaining us? How are you helping us to feel better about ourselves? How are you making us feel better? At Graterford, there is nothing you can do to make them feel better, except to release them.</p><p begin=\"00:53:25.18\" data-timestamp=\"3205.18\">So if you can play for a Graterford audience, you don't even look for an applause. Just as long as they don't boo you, you're all right. If they can't find nothing wrong with the music, they'll tell you, \"You just didn't turn right. When you had the horn up, you didn't hold it on a 45 degree angle. It didn't look right.\" So they'll find something.</p></div><div class=\"host\"><h4>Ira Glass</h4><p begin=\"00:53:46.57\" data-timestamp=\"3226.57\">Now you know how we heard people earlier in the program talk about the importance of living in the present. But when we interviewed Ed Ryder, he pointed out that, in prison, the most important thing is to keep your eye on the future, on the day that you're going to get out. And that the guys who just live in the present do really badly, because, of course, the present is so terrible.</p></div><div class=\"subject\"><h4>Ed Ryder</h4><p begin=\"00:54:06.33\" data-timestamp=\"3246.33\">I think when I was in prison, I dreamed more about the future in my head. I just had a lot of plans, a lot of things that I just dreamed about, I just dreamed of doing and dreamed of accomplishing. You're forced almost to. You know what I mean? You have nothing else to look forward to but tomorrow. You're constantly hoping and hoping. You're trying to plan something for the future.</p></div><div class=\"host\"><h4>Ira Glass</h4><p begin=\"00:54:36.71\" data-timestamp=\"3276.71\">We asked him if he is still playing the same music now that his future is here and he's out. And we thought that maybe the songs that he used to play would just bring back these hard memories of prison that he'd rather just as soon avoid. But he said, no, he plays the same numbers now that he used to, though sometimes they mean something different to him today.</p></div><div class=\"subject\"><h4>Ed Ryder</h4><p begin=\"00:54:56.61\" data-timestamp=\"3296.61\">When I was in Graterford, I always listened to it. I had a tape of \"God Bless the Child That's Got His Own\" by Billie Holiday. And what it meant to me when I was at Graterford-- and it has the same meaning now, but it's different. In the sense that, when I was at Graterford, when she said, \"Them that's got shall get, Them that's not shall lose. So the Bible says, and it still is news. Mama may have, Papa may have, But God bless the child that has his own.\"</p><p begin=\"00:55:23.31\" data-timestamp=\"3323.31\">Well, in my mind, at Graterford, I thought that, yes, I was the child that had his own, because I was out here on my own. I had no help at the time. There was no hope. I seen no way. I was like a child. I was like a child because I had no one I can turn to. My parents had passed. I had no one I could turn to.</p><p begin=\"00:55:44.03\" data-timestamp=\"3344.03\">And I felt like every time I would listen to that, I felt as though she was talking directly to me. And for me, that meant that I was on my own in this prison situation. And I was going to have to make it the best way that I could. And I was going to have to muster all the energy that I could possibly muster. Now when I was released and I heard the same song again, it still had that meaning, but now it's a different-- I'm on my own differently because I'm not in prison anymore.</p><p begin=\"00:56:15.86\" data-timestamp=\"3375.86\">That's not the struggle no more. It's me. But I'm on my own now because I've got things that I have to do. I have responsibilities now that I have to take care of. I have bills that I have to pay. I have job responsibility.</p><p begin=\"00:56:27.25\" data-timestamp=\"3387.25\">I have a lot of other things that I have to do, and I have to do these things on my own now. I don't have no prison guards waking me up in the morning, telling me, \"Hey, it's time to get up,\" or \"It's time to go eat, \" or \"It's time where you guys can go to a shower.\" I don't have that anymore. I'm on my own. So all this now is dependent upon me and my own initiative.</p><p begin=\"00:56:50.52\" data-timestamp=\"3410.52\">[SINGING] Them that's got shall get, them that's not will lose. So the Bible said, and it still is news. Mama may have, Papa may have, but God bless the child that's got his own, that's got his own. You know the strong get more, while the weak ones fade. Empty pockets don't, they don't make the grade. Mama may have, Papa may have, but God bless the child that's got his own, that's got his own. Money, you've got lots of friends. They all keep hanging around your door. But when money's gone and all of the spendings end, they don't come around, they won't come around no more. Rich relations give a crust of bread and such. Go on and help yourself, but you better not take too much. Mama may have, Papa may have, but God bless the child that's got his own. God bless the child that's got his own.</p><p begin=\"00:59:09.61\" data-timestamp=\"3549.61\">That's basically some of it.</p></div><div class=\"host\"><h4>Ira Glass</h4><p begin=\"00:59:11.97\" data-timestamp=\"3551.97\">Ed Ryder joining us in the playhouse from the studios of WHYY in Philadelphia, speaking with me and associate producer Nancy Updike. Ed Ryder's a big Billie Holiday fanatic. That was the word he used, \"fanatic,\" when we asked him about it. So when we asked him to play a number with his horn, with his trumpet, he played \"Lover Man.\"</p><p begin=\"00:59:32.20\" data-timestamp=\"3572.2\">[MUSIC - \"LOVER MAN\" BY BILLIE HOLIDAY]</p></div> </div>\n",
       "</div>\n",
       "<div class=\"act\" id=\"credits\">\n",
       "<h3>Credits</h3>\n",
       "<div class=\"act-inner\">\n",
       "<div class=\"host\"><h4>Ira Glass</h4><p begin=\"00:59:53.40\" data-timestamp=\"3593.4\">That's pretty much all the time we have for this evening.</p><p begin=\"00:59:55.49\" data-timestamp=\"3595.49\">[FUNDING CREDITS]</p></div><div class=\"host\"><p begin=\"01:00:05.10\" data-timestamp=\"3605.1\">This show was produced by Dolores Wilber, Peter Clowney, Nancy Updike, Alix Spiegel, and myself. Contributing editors Paul Tough and Jack Hitt on the west coast, Margy Rochlin on the east coast. I've got that backwards. Paul Tough and Jack Hitt on the east coast. Margy Rochlin on the west. You see, you get so confused when you have two pieces of music running at the same time.</p><p begin=\"01:00:30.51\" data-timestamp=\"3630.51\">[ACKNOWLEDGEMENTS]</p></div><div class=\"host\"><p begin=\"01:01:50.29\" data-timestamp=\"3710.29\">Torey Malatia has supported this show from the start. We'll be back next week, same time, we hope. From WBEZ Chicago, I'm Ira Glass.</p></div> </div>\n",
       "</div>\n",
       "</div>\n",
       "<div id=\"torey\">\n",
       "<figure>\n",
       "<img alt=\"Thanks as always to our program's co-founder Torey Malatia\" loading=\"lazy\" src=\"/sites/all/modules/custom/tal_transcript/images/torey.png\" srcset=\"/sites/all/modules/custom/tal_transcript/images/torey_thumbnail.png 400w, /sites/all/modules/custom/tal_transcript/images/torey_medium.png 800w, /sites/all/modules/custom/tal_transcript/images/torey_large.png 2x\" title=\"Thanks Torey\"/> </figure>\n",
       "</div>\n",
       "<script id=\"playlist-data\" type=\"application/json\">{\"title\":\"1: New Beginnings\",\"guid\":\"37672 at https:\\/\\/www.thisamericanlife.org\",\"facebook\":\"https:\\/\\/www.facebook.com\\/sharer\\/sharer.php?u=https%3A\\/\\/www.thisamericanlife.org\\/1\\/new-beginnings\",\"twitter\":\"https:\\/\\/twitter.com\\/intent\\/tweet?text=New%20Beginnings%20https%3A\\/\\/www.thisamericanlife.org\\/1\\/new-beginnings\",\"mail\":\"mailto:?subject=This%20American%20Life%3A%20New%20Beginnings&body=https%3A\\/\\/www.thisamericanlife.org\\/1\\/new-beginnings\",\"thumbnail\":\"https:\\/\\/www.thisamericanlife.org\\/sites\\/default\\/files\\/styles\\/app_thumbnail\\/public\\/episodes\\/images\\/1.jpg?itok=3jv8dEt5\",\"transcript\":\"\\/1\\/transcript\",\"episode\":1,\"audio\":\"https:\\/\\/www.thisamericanlife.org\\/sites\\/default\\/files\\/audio\\/1\\/f4vcq5NjNe6sLhpHCrnrYIwy4MDsnHERXNinV2Es-cg\\/1.mp3\",\"stream\":\"https:\\/\\/stream.thisamericanlife.org\\/1\\/stream\\/1_64k.m3u8\",\"archive\":\"https:\\/\\/www.thisamericanlife.org\\/sites\\/default\\/files\\/audio\\/1\\/f4vcq5NjNe6sLhpHCrnrYIwy4MDsnHERXNinV2Es-cg\\/1.mp3\",\"acts\":[{\"name\":\"Prologue\",\"summary\":\"Ira talks with Joe Franklin, host of the longest running talk show in television history, to get advice for his new radio show.\",\"number\":0,\"timestamp\":0,\"byline\":\"By <a href=\\\"\\/archive?contributor=8731\\\">Ira Glass<\\/a>\"},{\"name\":\"Act One: Act One\",\"summary\":\"After he goes to Jerusalem and sleeps on what is supposedly the very spot where Jesus was crucified, Kevin Kelly has a revelation: that he should live the next six months as if he would die at the end of them. So he gives away nearly everything he owns, and tries to live each day as if his death is imminent \\u2014 which turns out to be a great challenge.\",\"number\":1,\"timestamp\":387,\"byline\":\"By <a href=\\\"\\/archive?contributor=8731\\\">Ira Glass<\\/a>\"},{\"name\":\"Act Two: Act Two\",\"summary\":\"Ira calls his parents Shirley Glass and Barry Glass in Baltimore to ask them for advice about his new radio show.\",\"number\":2,\"timestamp\":1787,\"byline\":\"By <a href=\\\"\\/archive?contributor=8731\\\">Ira Glass<\\/a>\"},{\"name\":\"Act Three: Act Three\",\"summary\":\"When filmmaker and performance artist Lawrence Steger found out he was HIV positive, he was just about to go out on across country road trip with a friend of his.\",\"number\":3,\"timestamp\":2206,\"byline\":\"By <a href=\\\"\\/archive?contributor=9059\\\">Lawrence Steger<\\/a>\"},{\"name\":\"Act Four: Act Four\",\"summary\":\"Ira talks with Ed Ryder, who was wrongly imprisoned for twenty years and recently released. The whole time Ryder was in prison, he dreamt of starting up a band.\",\"number\":4,\"timestamp\":3013}]}</script>\n",
       "</article>\n",
       "</div>\n",
       "</div>\n",
       "</div>\n",
       "</main>\n",
       "</div>\n",
       "<!--#content-->\n",
       "<footer id=\"footer\">\n",
       "<div class=\"footer-inner clearfix\">\n",
       "<div class=\"site-name\">\n",
       "<a href=\"/\"><span class=\"icon icon-flag\"></span><span class=\"icon icon-wordmark\"></span><span class=\"icon icon-wbez\"></span><span class=\"element-invisible\">This American Life</span></a>\n",
       "<p><em>This American Life</em> is produced in collaboration with WBEZ Chicago and delivered to stations by PRX The Public Radio Exchange.</p>\n",
       "</div>\n",
       "<nav id=\"footer-menu\">\n",
       "<div class=\"item-list\"><ul class=\"menu\"><li class=\"how-to-listen first\"><a href=\"/listen\">How to Listen</a></li>\n",
       "<li class=\"episodes\"><a href=\"/archive\">Episodes</a></li>\n",
       "<li class=\"recommended\"><a href=\"/recommended\">Recommended</a></li>\n",
       "<li class=\"about has-children\"><a href=\"/about\">About</a><div class=\"item-list\"><ul class=\"about has-children\"><li class=\"first\"><a href=\"/about\">Overview</a></li>\n",
       "<li><a href=\"/about/staff\">Staff</a></li>\n",
       "<li><a href=\"/about/announcements\">Announcements</a></li>\n",
       "<li><a href=\"/fellowships\">Fellowships</a></li>\n",
       "<li><a href=\"/about/jobs\">Jobs</a></li>\n",
       "<li><a href=\"/about/music\">Music</a></li>\n",
       "<li><a href=\"/about/make-radio\">Make Radio</a></li>\n",
       "<li><a href=\"/about/on-the-road\">On The Road</a></li>\n",
       "<li><a href=\"/about/faq\">FAQ</a></li>\n",
       "<li><a href=\"/about/submissions\">Submissions</a></li>\n",
       "<li><a href=\"https://store.thisamericanlife.org/\">Merch</a></li>\n",
       "<li><a href=\"/about/contact-us\">Contact Us</a></li>\n",
       "<li class=\"last\"><a href=\"/about/our-other-shows\">Our Other Shows</a></li>\n",
       "</ul></div></li>\n",
       "<li class=\"merch\"><a href=\"https://store.thisamericanlife.org/\">Merch</a></li>\n",
       "<li class=\"contact\"><a href=\"/about/contact-us\">Contact</a></li>\n",
       "<li class=\"footer-link last\"><a href=\"https://thisamericanlife.supercast.com?utm_campaign=lifepartners&amp;utm_source=talwebsite&amp;utm_medium=footer\">Life Partners</a></li>\n",
       "</ul></div> </nav>\n",
       "<ul class=\"links\">\n",
       "<li class=\"social facebook\"><a href=\"https://www.facebook.com/thislife\"><span class=\"icon-facebook\"></span></a></li>\n",
       "<li class=\"social twitter\"><a href=\"https://twitter.com/thisamerlife\"><span class=\"icon-twitter\"></span></a></li>\n",
       "<li class=\"social instagram\"><a href=\"https://www.instagram.com/thisamerlife/\"><span class=\"icon-instagram\"></span></a></li>\n",
       "<li class=\"show serial\"><a href=\"https://serialpodcast.org/\"><img alt=\"Serial\" src=\"https://www.thisamericanlife.org/sites/all/themes/thislife/img/serial.png\" title=\"Serial\"/></a></li>\n",
       "<li class=\"show s-town\"><a href=\"https://stownpodcast.org/\"><img alt=\"S-Town\" src=\"https://www.thisamericanlife.org/sites/all/themes/thislife/img/stown.png\" title=\"S-Town\"/></a></li>\n",
       "</ul>\n",
       "<div class=\"copyright\">\n",
       "        © 1995 - 2025 This American Life\n",
       "        <a href=\"/page/privacy-policy\">Privacy Policy</a> | <a href=\"/page/terms-of-use\">Terms of Use</a>\n",
       "</div>\n",
       "</div>\n",
       "</footer> <!-- /#footer -->\n",
       "<div aria-hidden=\"true\" class=\"modal\" data-micromodal-close=\"\" id=\"share-modal\">\n",
       "<div data-micromodal-close=\"\" tabindex=\"-1\">\n",
       "<div aria-labelledby=\"share-title\" aria-modal=\"true\" class=\"modal-container\" role=\"dialog\">\n",
       "<h2 id=\"share-title\">Share</h2>\n",
       "<div class=\"modal-inner\">\n",
       "<ul class=\"share-social\">\n",
       "<li class=\"facebook\">\n",
       "<a class=\"shareout ignore facebook\" href=\"https://www.facebook.com/sharer/sharer.php?u=https%3A//www.thisamericanlife.org/1/transcript\">\n",
       "<span class=\"icon icon-facebook\"></span>\n",
       "<span class=\"label\">Facebook</span>\n",
       "</a>\n",
       "</li>\n",
       "<li class=\"twitter\">\n",
       "<a class=\"shareout ignore twitter\" href=\"https://twitter.com/intent/tweet?text=1%3A%20New%20Beginnings%20https%3A//www.thisamericanlife.org/1/transcript\">\n",
       "<span class=\"icon icon-twitter\"></span>\n",
       "<span class=\"label\">Twitter</span>\n",
       "</a>\n",
       "</li>\n",
       "<li class=\"mail\">\n",
       "<a class=\"shareout ignore mail\" href=\"/cdn-cgi/l/email-protection#724d010710181711064f261a1b01574042331f17001b11131c5740423e1b1417574133574042435741335740423c17055740423017151b1c1c1b1c150154101d160b4f1a060602015741335d5d0505055c061a1b01131f17001b11131c1e1b14175c1d00155d435d0600131c0111001b0206\">\n",
       "<span class=\"icon icon-mail\"></span>\n",
       "<span class=\"label\">Email</span>\n",
       "</a>\n",
       "</li>\n",
       "</ul>\n",
       "</div>\n",
       "<a class=\"close ignore\" data-micromodal-close=\"\">\n",
       "<span class=\"icon icon-close\"></span>\n",
       "</a>\n",
       "</div>\n",
       "<a class=\"close ignore\" data-micromodal-close=\"\">\n",
       "<span class=\"icon icon-close\"></span>\n",
       "</a>\n",
       "</div>\n",
       "</div>\n",
       "<div aria-hidden=\"true\" class=\"modal\" data-micromodal-close=\"\" id=\"subscribe-modal\">\n",
       "<div data-micromodal-close=\"\" tabindex=\"-1\">\n",
       "<div aria-labelledby=\"subscribe-title\" aria-modal=\"true\" class=\"modal-container\" role=\"dialog\">\n",
       "<h2 id=\"subscribe-title\">Subscribe</h2>\n",
       "<div class=\"modal-inner\">\n",
       "<ul class=\"share-social\">\n",
       "<li class=\"spotify\">\n",
       "<a class=\"shareout ignore spotify\" href=\"https://open.spotify.com/show/41zWZdWCpVQrKj7ykQnXRc?si=0a07e7f79db64f54\">\n",
       "<span class=\"icon icon-spotify\"></span>\n",
       "<span class=\"label\">on Spotify</span>\n",
       "</a>\n",
       "</li>\n",
       "<li class=\"apple\">\n",
       "<a class=\"shareout ignore apple\" href=\"https://podcasts.apple.com/us/podcast/this-american-life/id201671138?itscg=30200&amp;itsct=podcast_box&amp;ls=1&amp;mttnsubad=201671138&amp;at=1001lJHP&amp;ct=thisamericanlife.org+episode+Subscribe\">\n",
       "<span class=\"icon icon-podcast\"></span>\n",
       "<span class=\"label\">in Apple Podcasts</span>\n",
       "</a>\n",
       "</li>\n",
       "</ul>\n",
       "</div>\n",
       "<a aria-label=\"close\" class=\"close ignore\" data-micromodal-close=\"\">\n",
       "<span class=\"icon icon-close\"></span>\n",
       "</a>\n",
       "</div>\n",
       "<a aria-label=\"close\" class=\"close ignore\" data-micromodal-close=\"\">\n",
       "<span class=\"icon icon-close\"></span>\n",
       "</a>\n",
       "</div>\n",
       "</div>\n",
       "<div aria-hidden=\"true\" class=\"modal\" data-micromodal-close=\"\" id=\"player-share-modal\">\n",
       "<div data-micromodal-close=\"\" tabindex=\"-1\">\n",
       "<div aria-labelledby=\"player-share-title\" aria-modal=\"true\" class=\"modal-container\" role=\"dialog\">\n",
       "<h2 id=\"player-share-title\">Share</h2>\n",
       "<div class=\"modal-inner\">\n",
       "<ul class=\"share-social\">\n",
       "<li class=\"facebook\">\n",
       "<a class=\"shareout ignore facebook\" href=\"https://www.facebook.com/sharer/sharer.php?u=https%3A//www.thisamericanlife.org/1/transcript\">\n",
       "<span class=\"icon icon-facebook\"></span>\n",
       "<span class=\"label\">Facebook</span>\n",
       "</a>\n",
       "</li>\n",
       "<li class=\"twitter\">\n",
       "<a class=\"shareout ignore twitter\" href=\"https://twitter.com/intent/tweet?text=1%3A%20New%20Beginnings%20https%3A//www.thisamericanlife.org/1/transcript\">\n",
       "<span class=\"icon icon-twitter\"></span>\n",
       "<span class=\"label\">Twitter</span>\n",
       "</a>\n",
       "</li>\n",
       "<li class=\"mail\">\n",
       "<a class=\"shareout ignore mail\" href=\"/cdn-cgi/l/email-protection#a49bd7d1c6cec1c7d099f0cccdd7819694e5c9c1d6cdc7c5ca819694e8cdc2c18197e5819694958197e5819694eac1d3819694e6c1c3cdcacacdcac3d782c6cbc0dd99ccd0d0d4d78197e58b8bd3d3d38ad0cccdd7c5c9c1d6cdc7c5cac8cdc2c18acbd6c38b958bd0d6c5cad7c7d6cdd4d0\">\n",
       "<span class=\"icon icon-mail\"></span>\n",
       "<span class=\"label\">Email</span>\n",
       "</a>\n",
       "</li>\n",
       "</ul>\n",
       "</div>\n",
       "<a class=\"close ignore\" data-micromodal-close=\"\">\n",
       "<span class=\"icon icon-close\"></span>\n",
       "</a>\n",
       "</div>\n",
       "<a class=\"close ignore\" data-micromodal-close=\"\">\n",
       "<span class=\"icon icon-close\"></span>\n",
       "</a>\n",
       "</div>\n",
       "</div>\n",
       "<script data-cfasync=\"false\" src=\"/cdn-cgi/scripts/5c5dd728/cloudflare-static/email-decode.min.js\"></script><script type=\"text/javascript\">\n",
       "    var jplayer_swfPath = '/sites/all/themes/thislife/bower_components/jPlayer/dist/jplayer/';\n",
       "  </script>\n",
       "<script src=\"https://www.thisamericanlife.org/sites/default/files/js/js_UUHiUL6R9sMQU_wLlnsbg5mkQqZSj1Vsh2LUGangw6o.js\" type=\"text/javascript\"></script>\n",
       "<script src=\"https://www.thisamericanlife.org/sites/default/files/js/js_aAlGj0C4DI7o_m9IO_M_DJP1CK2P4W9TmeC9iZ9SSKQ.js\" type=\"text/javascript\"></script>\n",
       "<script src=\"https://www.thisamericanlife.org/sites/default/files/js/js_gHk2gWJ_Qw_jU2qRiUmSl7d8oly1Cx7lQFrqcp3RXcI.js\" type=\"text/javascript\"></script>\n",
       "<script src=\"https://www.thisamericanlife.org/sites/default/files/js/js_FbF9-xSI0M3UI275BefCZf7Xl8T7oi0HmwnBOLLsRoY.js\" type=\"text/javascript\"></script>\n",
       "<script src=\"https://www.thisamericanlife.org/sites/default/files/js/js_52wp6rAuIPC-GYoL33hPDWs4rN1bugFKt7WhTAqCHzU.js\" type=\"text/javascript\"></script>\n",
       "<script type=\"text/javascript\">\n",
       "<!--//--><![CDATA[//><!--\n",
       "jQuery.extend(Drupal.settings, {\"basePath\":\"\\/\",\"pathPrefix\":\"\",\"setHasJsCookie\":0,\"ajaxPageState\":{\"theme\":\"thislife\",\"theme_token\":\"HeAZgpmvcQIuHjjZ2YeNY-Aafwrw6vTORTFTeFxcJTM\",\"js\":{\"sites\\/all\\/modules\\/contrib\\/jquery_update\\/replace\\/jquery\\/1.12\\/jquery.min.js\":1,\"misc\\/jquery-extend-3.4.0.js\":1,\"misc\\/jquery-html-prefilter-3.5.0-backport.js\":1,\"misc\\/jquery.once.js\":1,\"misc\\/drupal.js\":1,\"sites\\/all\\/modules\\/contrib\\/jquery_update\\/js\\/jquery_browser.js\":1,\"modules\\/contextual\\/contextual.js\":1,\"sites\\/all\\/modules\\/contrib\\/entityreference\\/js\\/entityreference.js\":1,\"sites\\/all\\/modules\\/custom\\/tal_membership\\/js\\/modal.js\":1,\"sites\\/all\\/themes\\/thislife\\/js\\/min\\/plugins.min.js\":1,\"sites\\/all\\/themes\\/thislife\\/bower_components\\/jPlayer\\/dist\\/jplayer\\/jquery.jplayer.min.js\":1,\"sites\\/all\\/themes\\/thislife\\/bower_components\\/fingerprintjs2\\/fingerprint2.js\":1,\"sites\\/all\\/themes\\/thislife\\/bower_components\\/cookieconsent\\/build\\/cookieconsent.min.js\":1,\"sites\\/all\\/themes\\/thislife\\/js\\/min\\/micromodal.min.js\":1,\"sites\\/all\\/themes\\/thislife\\/js\\/main.js\":1},\"css\":{\"modules\\/system\\/system.base.css\":1,\"modules\\/system\\/system.menus.css\":1,\"modules\\/system\\/system.messages.css\":1,\"modules\\/system\\/system.theme.css\":1,\"modules\\/contextual\\/contextual.css\":1,\"modules\\/field\\/theme\\/field.css\":1,\"modules\\/node\\/node.css\":1,\"modules\\/search\\/search.css\":1,\"modules\\/user\\/user.css\":1,\"sites\\/all\\/modules\\/custom\\/tal_membership\\/css\\/modal.css\":1,\"sites\\/all\\/modules\\/custom\\/tal_transcript\\/styles\\/transcript.css\":1,\"sites\\/all\\/themes\\/thislife\\/bower_components\\/normalize-css\\/normalize.css\":1,\"sites\\/all\\/themes\\/thislife\\/bower_components\\/cookieconsent\\/build\\/cookieconsent.min.css\":1,\"sites\\/all\\/themes\\/thislife\\/css\\/icomoon.css\":1,\"sites\\/all\\/themes\\/thislife\\/css\\/main.css\":1,\"sites\\/all\\/themes\\/thislife\\/css\\/print.css\":1}},\"modal\":{\"expires\":\"14\",\"excepted_paths\":\"\\/lifepartners\"}});\n",
       "//--><!]]>\n",
       "</script>\n",
       "<script id=\"saved-archive\" type=\"text/html\"></script>\n",
       "<script type=\"text/javascript\">window.NREUM||(NREUM={});NREUM.info={\"beacon\":\"bam.nr-data.net\",\"licenseKey\":\"NRJS-4ca6150b2252ca0579c\",\"applicationID\":\"1109107893\",\"transactionName\":\"NVVWbREFDEMDUUIMXAwfYUsKS01ZDFZTHR0SWEQ=\",\"queueTime\":0,\"applicationTime\":202,\"atts\":\"GRJVG1kfH00=\",\"errorBeacon\":\"bam.nr-data.net\",\"agent\":\"\"}</script></body>"
      ]
     },
     "execution_count": 8,
     "metadata": {},
     "output_type": "execute_result"
    }
   ],
   "source": [
    "soup.select_one('body')"
   ]
  },
  {
   "cell_type": "code",
   "execution_count": 38,
   "id": "19e5c34f-9ee5-4c22-802b-be4695c7ee66",
   "metadata": {},
   "outputs": [],
   "source": [
    "# scraping and saving transcript html\n",
    "'''for i in np.arange(824,853):\n",
    "    ep_number = str(i)\n",
    "    transcript_url = 'https://www.thisamericanlife.org/'+ ep_number + '/transcript'\n",
    "    page = requests.get(transcript_url)\n",
    "    with open('transcript-html/'+ep_number+'.html','wb+') as f: \n",
    "        f.write(page.content)'''"
   ]
  },
  {
   "cell_type": "code",
   "execution_count": 10,
   "id": "562610d5-67ed-44b4-bea9-5524721537f5",
   "metadata": {},
   "outputs": [
    {
     "data": {
      "text/plain": [
       "<title>1: New Beginnings - This American Life</title>"
      ]
     },
     "execution_count": 10,
     "metadata": {},
     "output_type": "execute_result"
    }
   ],
   "source": [
    "# title tag gives us episode number and title\n",
    "soup.title"
   ]
  },
  {
   "cell_type": "code",
   "execution_count": 11,
   "id": "f2f1ff26-d4c6-4500-9d3a-7bae61fa6e86",
   "metadata": {},
   "outputs": [],
   "source": [
    "tags = [tag.name for tag in soup.find_all()]\n",
    "class_list = set()\n",
    "for tag in tags: \n",
    "    for i in soup.find_all(tag):\n",
    "        if i.has_attr(\"class\"):\n",
    "            if len(i['class']) !=0:\n",
    "                class_list.add(\" \".join(i['class']))"
   ]
  },
  {
   "cell_type": "code",
   "execution_count": 12,
   "id": "a5b5b212-3083-4bf3-b218-4843e5c1cc4e",
   "metadata": {
    "scrolled": true
   },
   "outputs": [
    {
     "data": {
      "text/plain": [
       "{'about has-children',\n",
       " 'act',\n",
       " 'act-inner',\n",
       " 'actions',\n",
       " 'apple',\n",
       " 'block block-system',\n",
       " 'body',\n",
       " 'bottom',\n",
       " 'button form-submit',\n",
       " 'clear',\n",
       " 'close',\n",
       " 'close ignore',\n",
       " 'column sidebar',\n",
       " 'contact',\n",
       " 'container clearfix',\n",
       " 'content',\n",
       " 'contributor',\n",
       " 'copyright',\n",
       " 'cta_link',\n",
       " 'current',\n",
       " 'element-invisible',\n",
       " 'element-invisible element-focusable',\n",
       " 'episode',\n",
       " 'episodes',\n",
       " 'facebook',\n",
       " 'field-name-field-notes',\n",
       " 'first',\n",
       " 'flag-wrapper',\n",
       " 'footer-inner clearfix',\n",
       " 'footer-link last',\n",
       " 'full-episode goto goto-episode',\n",
       " 'host',\n",
       " 'how-to-listen',\n",
       " 'how-to-listen first',\n",
       " 'html not-front not-logged-in no-sidebars page-node page-node- page-node-43349 node-type-transcript page-status-',\n",
       " 'icon icon-arrow-left',\n",
       " 'icon icon-close',\n",
       " 'icon icon-closed_caption',\n",
       " 'icon icon-facebook',\n",
       " 'icon icon-flag',\n",
       " 'icon icon-mail',\n",
       " 'icon icon-pause',\n",
       " 'icon icon-play',\n",
       " 'icon icon-podcast',\n",
       " 'icon icon-share',\n",
       " 'icon icon-spotify',\n",
       " 'icon icon-twitter',\n",
       " 'icon icon-wbez',\n",
       " 'icon icon-wordmark',\n",
       " 'icon-arrow-down',\n",
       " 'icon-facebook',\n",
       " 'icon-forward',\n",
       " 'icon-instagram',\n",
       " 'icon-pause',\n",
       " 'icon-play',\n",
       " 'icon-rewind',\n",
       " 'icon-search',\n",
       " 'icon-skip-back',\n",
       " 'icon-skip-forward',\n",
       " 'icon-twitter',\n",
       " 'image',\n",
       " 'image mobile_image',\n",
       " 'interviewer',\n",
       " 'item-list',\n",
       " 'jp-audio',\n",
       " 'jp-controls',\n",
       " 'jp-current-time',\n",
       " 'jp-forward',\n",
       " 'jp-gui jp-interface',\n",
       " 'jp-jplayer',\n",
       " 'jp-next',\n",
       " 'jp-pause',\n",
       " 'jp-play',\n",
       " 'jp-play-bar',\n",
       " 'jp-previous',\n",
       " 'jp-progress',\n",
       " 'jp-remaining',\n",
       " 'jp-rewind',\n",
       " 'jp-seek-bar',\n",
       " 'jp-type-single',\n",
       " 'label',\n",
       " 'last',\n",
       " 'links',\n",
       " 'mail',\n",
       " 'mc-field-group',\n",
       " 'menu',\n",
       " 'merch',\n",
       " 'meta',\n",
       " 'middle',\n",
       " 'modal',\n",
       " 'modal-container',\n",
       " 'modal-inner',\n",
       " 'no-js',\n",
       " 'node node-transcript node-promoted view-full clearfix',\n",
       " 'partners mobile first',\n",
       " 'pause',\n",
       " 'play',\n",
       " 'play play-1 play-transcript active',\n",
       " 'player-share ignore',\n",
       " 'player-transcript ignore',\n",
       " 'recommended',\n",
       " 'region region-content',\n",
       " 'remaining',\n",
       " 'required email',\n",
       " 'scrim',\n",
       " 'search',\n",
       " 'share',\n",
       " 'share-social',\n",
       " 'shareout ignore apple',\n",
       " 'shareout ignore facebook',\n",
       " 'shareout ignore mail',\n",
       " 'shareout ignore spotify',\n",
       " 'shareout ignore twitter',\n",
       " 'show s-town',\n",
       " 'show serial',\n",
       " 'signup last',\n",
       " 'site-name',\n",
       " 'social',\n",
       " 'social facebook',\n",
       " 'social instagram',\n",
       " 'social twitter',\n",
       " 'spotify',\n",
       " 'store desktop',\n",
       " 'subject',\n",
       " 'text',\n",
       " 'time',\n",
       " 'title',\n",
       " 'top',\n",
       " 'transcript',\n",
       " 'transcript__caption js-closed-caption ignore',\n",
       " 'transcript__meta',\n",
       " 'twitter',\n",
       " 'validate'}"
      ]
     },
     "execution_count": 12,
     "metadata": {},
     "output_type": "execute_result"
    }
   ],
   "source": [
    "class_list"
   ]
  },
  {
   "cell_type": "code",
   "execution_count": 13,
   "id": "ae6e932f-d67f-4212-bf74-0060562b8424",
   "metadata": {
    "scrolled": true
   },
   "outputs": [
    {
     "data": {
      "text/plain": [
       "[]"
      ]
     },
     "execution_count": 13,
     "metadata": {},
     "output_type": "execute_result"
    }
   ],
   "source": [
    "soup.select('time')"
   ]
  },
  {
   "cell_type": "code",
   "execution_count": 14,
   "id": "415cc818-a49f-4d6a-a33c-7916cba81697",
   "metadata": {},
   "outputs": [],
   "source": [
    "with open('transcript-text/'+str(824)+'.txt','w') as file:\n",
    "    file.writelines(soup.get_text())"
   ]
  },
  {
   "cell_type": "code",
   "execution_count": 15,
   "id": "8f9bf81c-fd18-4b4a-be0f-446ea0d80050",
   "metadata": {},
   "outputs": [
    {
     "data": {
      "text/plain": [
       "\"for i in np.arange(1,824):\\n    with open('transcript-text/'+str(824)+'.txt','w') as file:\\n    file.writelines(soup.get_text())\""
      ]
     },
     "execution_count": 15,
     "metadata": {},
     "output_type": "execute_result"
    }
   ],
   "source": [
    "# for turning html into text transcripts \n",
    "'''for i in np.arange(1,824):\n",
    "    with open('transcript-text/'+str(824)+'.txt','w') as file:\n",
    "    file.writelines(soup.get_text())'''"
   ]
  },
  {
   "cell_type": "code",
   "execution_count": 16,
   "id": "47dfa07e-3962-49bc-8544-88c7e5103c97",
   "metadata": {},
   "outputs": [
    {
     "data": {
      "text/plain": [
       "<title>1: New Beginnings - This American Life</title>"
      ]
     },
     "execution_count": 16,
     "metadata": {},
     "output_type": "execute_result"
    }
   ],
   "source": [
    "soup.title"
   ]
  },
  {
   "cell_type": "code",
   "execution_count": 17,
   "id": "a0085d29-0c5c-4d89-b376-cbbc88793cc8",
   "metadata": {},
   "outputs": [],
   "source": [
    "content = soup.find_all(\"div\", class_=\"content\")\n",
    "csoup = BeautifulSoup(str(content))\n"
   ]
  },
  {
   "cell_type": "code",
   "execution_count": 18,
   "id": "bc256c49-8aa1-4aa1-b072-493ba3275ddd",
   "metadata": {
    "scrolled": true
   },
   "outputs": [
    {
     "data": {
      "text/plain": [
       "'[,Full episodeToggle Audio and Transcript SyncTranscript1: New BeginningsNote: This American Life is produced for the ear and designed to be heard. If you are able, we strongly encourage you to listen to the audio, which includes emotion and emphasis that\\'s not on the page. Transcripts are generated using a combination of speech recognition software and human transcribers, and may contain errors. Please check the corresponding audio before quoting in print.PrologueIra GlassJoe Franklin?Joe FranklinI\\'m ready.Ira GlassIt\\'s Ira Glass here.Joe FranklinOh, you\\'re the emcee on the show, Ira.Ira GlassI am the emcee on the show. Yes.Joe FranklinOh great. Ira? I-R-A, Ira?Ira GlassIra, I-R-A.Joe FranklinOh, great. Now hold on one second, Ira. Don\\'t go away. Hello? [UNINTELLIGIBLE]. Call me after 3 o\\'clock. I have great news for you. Ira.Ira GlassYes.Joe FranklinSo listen, Tony. If the phone rings, take it in the back. And then come out and tell me who it is. Just say, Joe\\'s being with a camera crew. Just for about 10 minutes. We\\'ll do about five minutes, 10 minutes, right, Ira?Ira GlassThat\\'s right.Well, one great thing about starting a new show is utter anonymity. Nobody really knows what to expect from you. This interviewee did not know us from Adam.OK, we\\'re what? About a minute. We\\'re one minute five into the new show. Right now, it is stretching in front of us, a perfect future yet to be fulfilled. An uncharted little world. A little baby coming into the world, no little scars on it or anything.Nobody hearing my words right now is thinking, \"Oh, man, remember that show, back when it used to be good? That show, I never missed that show back in the old days, back in the first couple years before it got so-called popular. Back when it was still good.\"No, actually, I think that force, that human desire to say that is so strong, to say that \"I was there back when that show was good,\" that force is so strong, it is so basic to who we are as people that I know-- OK, what are we? We are two minutes into the program-- I know that somewhere out there, one or two of you are saying, \"Oh, sure. I used to listen to that show back in the first 30 seconds, back when it used to be really good. Remember back when they used to do all that crazy stuff? When they had that guy on the phone? Remember back then?\"Well, from WBEZ, in the glorious city of Chicago, Illinois. The name of this show isYourRadioPlayhouse.I\\'m your emcee. I\\'m your emcee, Ira Glass.OK, the idea of this show, this new little show, is stories, some by journalists and documentary producers, like myself, some just regular people telling their own little stories, some by artists, and writers, and performers of all different kinds. And the idea is we\\'re going to bring you stuff you\\'re not going to find anywhere else. And there is also going to be music.And tonight\\'s show, we thought that we would have a theme. Tonight\\'s show is going to be New Beginnings. And to kick things off, I called the man who\\'s had, as best as anybody can tell, the longest running program in the history of television. His name is Joe Franklin, and his program ran for 43 years on local television in New York. And he claims that he invented the talk show format. And I called him to get some advice on how to create a long-running, healthy program.Joe FranklinI\\'ve been called in many times to give a sort of a Dean, the elder statesman, even though I\\'m still a young kid. But I\\'ve been called in to give this kind of advice to new kids on the block. Conan O\\'Brien had me on his first show. And people like that. There\\'s no guidance. It\\'s a matter of paying attention.Your voice, I\\'ve heard so much about the sparkle, about the energy in your voice. The voice, on radio especially, is everything. And when the guest is sitting with you, you\\'ve got to look into his eyes. Many times, you get an author on there who\\'s begrudgingly sitting there. He\\'d rather be home in his ivory tower.And above all, get the plug fast. Otherwise, he\\'s worried you\\'re not going to make the plug for the book. And I created a line, Ira, that\\'s been picked up by George Burns. I always said, the main ingredient for longevity in the talk show field, where the mortality rate is so staggering, the main ingredient is sincerity. And once you learn to fake that, then you got it made. I made that up. And I just played it by ear. I was a natural born talker, I guess.Ira GlassSo let me just summarize what I\\'m getting from you. You\\'re saying you should just pay attention, look people in the eye, be sincere when I\\'m on the air, get in the plug early.Joe FranklinThat\\'s the key. And don\\'t look in their nose or their belly button. Look right in the eye. Eye contact is everything. And as I say, it\\'s a lot of fun.And I never called anybody in my life to come on to my show. And I\\'m sure that they\\'ll be coming to you too. I heard about you, and I called you and wanted to wish you good look, Ira. Imagine the thrill of John F. Kennedy walking into my studio. Richard Nixon. Ronald Reagan, five times. And Bing Crosby.And I\\'ve got a major book out right now, by the way, Ira, calledUpLatewithJoeFranklinfrom Simon & Schuster. And if you find a copy in the store--Ira GlassYou see now, I guess I\\'ve sort of messed that one up, because I didn\\'t let you get in your plug early.Joe FranklinSee, that is my fault. I got it in toward the bitter end. It\\'s like Duke Ellington. He always used to have his dessert at the beginning of the meal. Duke Ellington said, because he would never have no room for it at the end. So he had his dessert at the beginning. Who is it? Well, no, good news, 6 o\\'clock.Ira GlassWell, Joe Franklin, thank you very much for being with us on our premier show.Joe FranklinIra, I\\'m going to be a listener and a fan. And let\\'s always be in touch.[MUSIC - \"DESTINATION MOON\" BY DINAH WASHINGTON]Act One: Act OneIra GlassAll right,YourRadioPlayhouse.All right. I\\'m making eye contact with you right-- wait, how does Joe put it? Wait a second.Joe FranklinLook right in the eye. Eye contact is everything.Ira GlassI am making eye contact with you right now. That is just how much I have already learned. OK, so the thing about new beginnings is that there are the ones that we actually undertake and then there are the ones that we just wish for. And the ones that we wish for pretty much outnumber the ones that we really undertake.Well, Kevin Kelly spent most of his twenties wandering around Asia. He was basically wandering around as a freelance photographer. And he found himself photographing a lot of religious ceremonies and drawn to religious ceremonies of all sorts. And he says that he was really confused about what he believed. And he was the kind of person who had always dreamt about a new beginning, where he wouldn\\'t struggle with these questions.Kevin KellyI would get twisted and caught up. And these things were in the background, consuming me. And actually, I found that I could think about little else for many, many months, that behind all that I was doing, there was always this unresolved question of was God real. And if he was real, then how could we ignore him? And if we were trying to not ignore him, what would we do? And if he was real, then what about these other things that people said about God?Ira GlassWe will not attempt to answer these questions, by the way, in this hour. I just want to just give you a sense of scope here, just modest scope. But what we want to talk about is what happened to Kevin Kelly. What happened is that at the age of 27, all of this changed when he came into Jerusalem on the eve of Easter and Passover. It was the same weekend. And flocks of people are coming into the city.Kevin KellySo I entered Jerusalem on Easter with a simple expectation that I was going to photograph another religious ceremony, another religious festival. And then, for various reasons, I got locked out of my hostel room. They had a curfew. And I didn\\'t make it back in time. And I was in quite a fix because I was a stranger in this very strange town. When it happened, I didn\\'t have enough money to stay elsewhere, nor did I even have knowledge of where to go.So I wandered the Old Town of Jerusalem at night, which had been shuttered up and was like a time machine. It was as if I had been transported back to the 15th century, because all the souvenir vendors were gone, and what was left were the labyrinthian paths of cobbled passageways. And I wandered around for a number of hours, and it was getting colder. Eventually, I found myself at the one place that was still open, which was some of the churches. And particularly, after wandering around until about 2:00 or 3:00 in the morning, I finally settled into the Church of the Holy Scepter, which is called and viewed as the church built over the mound where Jesus Christ was crucified.And I was getting very tired. And there weren\\'t many people around. And so eventually, I laid myself out on about the only flat area that was left, which was this marble slab underneath some pendants that had incense on them. And this was presumably the slab that commemorated the exact positioning of the crosses. So I slept there. I slept on the crucifixion spot on that night because it was the only place-- they had no place in the inn.I slept there until early morning, when the activity started to increase, and people started coming in. And I went out and followed the crowd where it was going when they were going out to the tombs area in Jerusalem. And I went out. And there were some folding chairs set up in front of this tomb area. And as the sun was coming up on that Easter morning, I was staring at empty tombs. And for a reason that I can not comprehend, as I sat on that chair contemplating this view of the early sun morning coming into the empty tombs, all that I had been wrestling with for the past many, many years in thinking about religion sort of became resolved in my mind. And at that very moment, I believed that Jesus Christ had, indeed, risen from those tombs.In an instant, the tension of trying to figure things out was resolved, because now, suddenly, everything was figured out. It was as if you had been working on a problem for a long time and suddenly the answer was there. And it was very clear that was the answer. And although there were many things that were still not clear to you, you were very certain that you were on the right path.Having that realization that I believe that Jesus Christ had actually risen from those tombs did not settle 1,001 other things about what one was supposed to do with that, what I was supposed to do with that. Did that mean I was supposed to be a monk? Did that mean I was supposed to be an evangelist?Did that mean that I had to immediately renounce all that I had, and get into sackcloths and ashes, and march out into the desert? All that was left unopened. And that is, in fact, what occupied my mind as I went back to my hostel to lay down and think about. Because I had no clue what it really meant to me ultimately, and that\\'s what I was pondering when I was laying there napping. And I wouldn\\'t say it was a voice, but there was an idea that came into my mind that just would not go away, and that was that I should live as if I would die in six months, that I should really, truly live. And that I could not tell for certain whether I would really die, but that either way, I should live as if I was going to die. And so that was the assignment.I\\'m a pretty rational person. I\\'m pretty logical. And after thinking the thought that I should live as if I was going to die in six months, the first thought that comes to my head was, \"Well, that\\'s pretty silly. I have no evidence whatsoever. I could live like I\\'m going to die in six months and not die at all. It would just be an interesting exercise.\"But at the same time, it was equally probable that I might die in six months. It happened all the time. There was no guarantee that I wouldn\\'t die. And so fairly quickly, I decided that I could not settle that issue of whether I would really die or not, or just think that I was going to die in six months, and that, in either case, the important thing was to live as if I really believed that I was going to die in six months, which is what I set out to do.The next couple days, I had the joyous experience of saying to myself, \"OK, what do I do for six months if I have only six months to live?\" And the answers to that surprised me as much as the assignment, because after thinking that through and contemplating it, the conclusion that I came to was that what I wanted to do for six months was to go home and be ordinary, to go back to my parents, to help them take out the trash, and trim the hedges, and move furniture around, and to be with them. And I was really shocked by that, because I thought that with six months to live, I would climb Mount Everest, or I would go scuba diving to the depths of the ocean, or get in a speedboat and see how fast I could go. But instead, I wanted to go back home and be with my family for that time.I, of course, did not tell anybody my crazy idea. This is, in fact, the first time I\\'m really talking about it publicly. Because it\\'s a very scary and alarming idea. And I never told anybody why I was coming home.I got back to where my parents live in New Jersey, and things were unbelievably ordinary. And yet, I found myself relishing the ordinariness and finding it in some ways as exotic as anything that I had traveled to see. I helped around the house. I dug up shrubs. I worked on a deck. I moved furniture, washed dishes.And I was intending to spend my last remaining six months at home getting to know my parents better and myself, hopefully. But about three months into that, my travel urges, I guess, got the better of me. And what I was most concerned about was I wanted to see my brothers and sisters. I had four brothers and sisters. And they were scattered all across the country. And so I felt very strongly that I wanted to see them before I died. And I got the idea that the way to see them was to ride my bicycle across the country and visit them on bicycle.But before I did that, I made up a will to dispose of the little things that I had. And I had some money left over. And one of the things I did with that money was I went to the bank and got some cashier\\'s checks for $500 and $1,000. And I mailed the money to various people anonymously as gifts. And I think giving away those thousands of dollars was the first true act of charity I had ever done. Because there was absolutely no way for any kind of gratitude or elevated feelings to come back to me, because the people had no idea who had sent them that money.It was really remarkable to see the consequences of getting an anonymous gift like that. Because when you get a check for $1,000 in the mail, you immediately become suspicious of all your friends of having given that to you. And so there\\'s this suspicion of charity, suspicion of goodness that starts to infect the people that are around you. And you look at someone, you think, \"Hm, I wonder if he gave me that $1,000?\"Ira GlassDoes that make sense? You look at them, and you think, \"I wonder if he gave me that $1,000?\" And then you act really nice to him. And then the next person you see, the next of your friends, you think, \"Could this be the person?\" And then you act really nice to them.I almost want to begin a little speech here about let us all now take up this practice. All of us. Everyone within the sound of my voice. If we all could just do this right now, then I would believe that our little radio show, just 19 minutes into the program, had contributed in some way.Kevin KellyI had enough money left over to basically pay for food and whatnot on my bicycle journey across America. And the path that I had to visit all my brothers and sisters was not a direct route, going from San Francisco to New York. I actually had to go up to Idaho, and back down to Texas, and then back up through Indiana. So it was a 5,000 mile trip. The day which, coincidentally, was exactly six months from when I had this assignment, was October 31. It was Halloween. And so the plan would be that I would ride back home, so that I would come back to die on the day after Halloween.I think there are a lot of people who have trouble staying in the present. There are some people who like to slip into the past as a means to perhaps fantasize or escape. And they find that the past is the place that they retreat to. And I often retreat to the future. I was not a person who planned or had a career staged out, or who had a particular woman he wanted to marry some day, or some vision of a house. The future that I found so hard to give up was a much more insidious type.It was that of I\\'d like to buy this record because, in the future, I want to hear this song again and again. Or I will read this book, and there are some cool ideas in it because someday I may write an article about this. And it\\'s good to know that. There was a sense in which my entire life was shifted to the future. And the thought of doing something now for the enjoyment, or the pleasures, or the principle of the function of just right now, without any sense at all that it would ever be used again or that it could ever be brought forward, was extremely difficult and disconcerting. And I fought it day by day and tooth by tooth.One of the ways I dealt with this was that I was actually able, by the last weeks, to not think about my life beyond Halloween. There was a way which I had just-- each time a thought came up about something that was beyond this horizon, I just said, \"Nope, can\\'t think about it. It doesn\\'t work. We have to dwell in the present.\"And at the same time I was doing that, and I was able to do that, I also decided that it was an entirely unnatural and inhumane way to live. And that having a future is part of what being human is about. And that when you take away the future for humans, you take away a lot of their humanness. And that it\\'s not actually a very good thing to live entirely in the present. That one needs to have a past, and one needs to have a future to be fully human.It was a journey that began at the tomb of Jesus. And as I set off to my own presumed death, I did, indeed, think about Jesus Christ who, according to the Gospels, surrendered his own life in a very knowing way. So we have the history in the Gospels of Jesus\\'s torment in his soul, as he approached what he knew of his anointed time to die. So it was, again, that very harsh information of knowing when you\\'re going to die.And Jesus\\'s soul was in great turmoil and pain because of knowing that. And I think I did experience some of that, not because I had the same weight. It was just my own life. But Jesus prayed that this burden be lifted, and there were days when I did pray that, that if I didn\\'t have to die, I really would rather not.By late fall, I was pedaling through the Appalachians, and it was getting colder and colder. And my hands were freezing on the bicycles, and there was ice on my tents in the morning when I got up. And as each day went on, I was coming closer and closer to terrain that I was familiar with and that felt like home. And I was riding into New Jersey, and I was elated. I was elated that I had accomplished this long journey. And I was elated that I was home to see my parents.And I came in to their house on Halloween day. And I was so filled with ideas, and things, and emotions, that I didn\\'t really say very much. And again, I couldn\\'t say very much. I think we had a wonderful dinner. They were, of course, glad to see me because they hadn\\'t seen me in a long time. They knew I was coming back, and we had a wonderful dinner.We had baskets of candy, which I gave out to the kids. And we had a discussion that night which was about nothing in particular. It was not about the future. It was just about, I think, talking about our family and my brothers and sisters. And I was telling them all that I  had learned about them. And so it was a very together and, again, not a very dramatic evening, but just a pleasant one, one that you might have a memory about as you were dying, which was not a special evening, but just an ordinary evening.And I went to bed that night, which was a very difficult thing to do because I was fully prepared at that point never to wake up again. I had been praying. I had gotten everything arranged. I had fully gone through in my own mind, in my own soul, all the things that I might have regretted. And I had righted as many of those as I thought I could through letters. And I was prepared, as much as anybody could be prepared to die.And so I went to bed while the kids were still ringing doorbells. And I went to sleep, because I was very tired after that long trip. And I didn\\'t know what was going to happen the next day. I thought I had done all that I could. And the next morning, I woke up. And the next morning, I woke up, and it was as if-- The next morning I woke up, and it was as if I had the entire-- my entire life again.The next morning, I woke up, and I had my entire life again. I had my future again. There was nothing special about the day. It was another ordinary day. I was reborn into ordinariness. But what more could one ask for?Ira GlassWell, Kevin Kelly is 43 now. That happened when he was 27. In his latest rebirth, he is the executive editor ofWiredmagazine, a glossy magazine about the future and the present. He told us that he wasn\\'t even sure he has ever even told his parents this story, even this many years later. Anyway, he spoke with me and Paul Tough from the studios of KQED in San Francisco. This isYourRadioPlayhouseon WBEZ Chicago.Act Two: Act TwoReceptionistGood morning. Glass, Jacobson & Associates.Ira GlassHey, is Barry there?ReceptionistPardon me?Ira GlassIs Barry there?ReceptionistYes, he is. He\\'s on another call. Do you wish to hold, or I could take a message, or you can leave one on his voicemail?Ira GlassIt\\'s his son.ReceptionistUh-huh.Ira GlassIsn\\'t this starting to sound like-- this little dialogue-- isn\\'t it starting to sound like an episode ofDr.Katz?You know that TV show? \"This is his son.\" \"Uh-huh. Yeah.\" Anyway, so I thought I would call my parents in Baltimore and ask for advice on this, our first evening of our brand new radio show,YourRadioPlayhouse.Ira GlassCan I leave a message with you? Or is it better to use his voicemail?ReceptionistIt doesn\\'t matter. I\\'ll put it right on his voicemail.Ira GlassOK, let\\'s do.ReceptionistOK, hold on, please.[MUSIC - \"NICE \\'N\\' EASY\" BY FRANK SINATRA]Ira GlassThis is the story of my childhood right there. Dad is a little too busy to talk. But there\\'s the recording of Frank Sinatra when needed.[TELEPHONE RINGING]Shirley GlassHello?Ira GlassHey, Mom.Shirley GlassOh, hi, Ira.Ira GlassHow you doing?Shirley GlassFine. Can you hold on a second?Ira GlassSure.This is what it\\'s like with my parents. They\\'re so busy. Call them. Put on hold. [SINGING] Baby, what\\'s your hurry?When I call my little sister, she works at Disney, and so there\\'s Disney music playing on the hold system. But there\\'s a lot of Disney music. And there\\'s a lot of it that peo--Shirley GlassHi.Ira GlassHi, Mom.Shirley GlassYeah.Ira GlassIt\\'s me.Shirley GlassYeah.Ira GlassListen, can I record a quick conversation with you about something?Shirley GlassWhat about?Ira GlassWell, you know the new show goes on the air this week. And as part of the show, we were thinking about having me call around to different people and get advice from them. And I wanted to know if you would have any advice.Shirley GlassHm. Do I have any advice? Well, can I ask another question?Ira GlassSure.Shirley GlassWho is your target audience?Ira GlassYou are such a pro.Shirley GlassI\\'m saying that you\\'re in danger of appealing to a narrow range of listeners if it becomes a little too-- I don\\'t know what word to use.Ira GlassArtsy.Shirley GlassArtsy, yeah.Ira GlassAre you and Dad still worried about me making a living in public radio? I know just for years, you were urging me to just get out and get, basically, any job in TV that I possibly could. But now that I\\'ve got my own show, are you guys still worried? Or do you feel like things are going OK? Do you want me to get into television still?Shirley GlassNow that Hugh Grant is such a big star, and everybody who sees you or sees your picture thinks how much you look like Hugh Grant, that fires up that TV thing again in me.Ira GlassAll right. I\\'m stopping the tape. This is me live. That was the tape. Only my mother could possibly believe this. Only a mother could pretty much believe this. Other adults see me, and the thought that goes through their head is not Hugh Grant. The thought that goes through their head is tall Jew.Shirley GlassWell, gosh, wouldn\\'t they want this wonderful humanistic, intelligent reporter who looks like Hugh Grant?Ira GlassAll right. Yeah, let\\'s move on.Shirley GlassWhat\\'s the theme for this week?Ira GlassThe theme for this week is new beginnings. And we have several stories, people telling about various ways in which their life began anew at some point.Shirley GlassThat\\'s very interesting, because I just did an interview this morning with a newspaper reporter about roman--Ira GlassI\\'m just going to stop the tape again. This is my whole life. I call my mom for an interview, and it\\'s not even her first interview of the day. I was lucky to get a booking. She\\'s a therapist, and sometimes she gets called by the papers and stuff.Shirley Glass--mance, romantic love. And people\\'s expectations about relationships. And one of the things I believe is that there are a lot of people who are good at beginnings, but they\\'re not good at middles.Ira GlassWhich means what?Shirley GlassIt means that they like the beginning, where there\\'s all this idealization and romantic projections. And the other person can be who they think they should be, rather than who they are. And when they get to the middle phase--Ira GlassAll right. I\\'m just going to stop the tape. Listen, all of you in the audience right now, let\\'s just agree right now, it\\'s the very beginning of our relationship. It\\'s the very beginning of our radio relationship right now. This is our little first little radio date, and I just don\\'t want any idealizing on either side. OK? Let\\'s just make eye contact right now. Remember what Joe Franklin said about the eye contact. No idealizing.Shirley Glass--where there\\'s more of a reality-based relationship, they run away from it because it\\'s not as exciting.Ira GlassIt\\'s interesting that you say that because, actually, as we\\'ve approached the first show, I\\'ve realized that I am much more comfortable with the notion of every day, work-a-day radio work, and being on every week, and having pieces on the air. But the notion of saying in a really big way, \"OK, this is the beginning. It\\'s the beginning, and we\\'re going to have a big beginning, and we\\'re going to make an epic statement,\" I feel very uncomfortable with.Shirley GlassSo you are good at middles.Ira GlassI\\'m better, I think, at middles than at beginnings.Shirley GlassThat\\'s good. That\\'s good because practically all of life is the middle.Ira GlassWe have gotten so deep here. I never expected that it was going to get so deep. I\\'m just very pleased at how deep this has gotten. Now you\\'re sitting there, you\\'re thinking, \"Is he making fun of me? What\\'s happening now? Where are you?\" No, I\\'m not. I\\'m not, actually. I\\'m not. I\\'m not. I\\'m not. You have nothing to worry about.Shirley GlassAre we going to get a tape of this since we\\'re outside the Chicago listening area?Ira GlassDepending on how you sound, yeah.Shirley GlassOK.Ira GlassWell, that\\'s my mom, Shirley Glass, speaking to us from Baltimore. I don\\'t think she\\'s going to get a tape. I do not think she\\'s going to get a tape.Act Three: Act ThreeIra GlassWell, next on our little playhouse stage, we have Mr. Lawrence Steger. Now those of you who have been listening carefully to our program and taking notes, and I know there are many of you out there, you know what I\\'m supposed to do at this point. You know because you were listening carefully to Joe Franklin at the very beginning of our program.Joe FranklinAbove all, get the plug fast.Ira GlassThat\\'s right. Well, thank you, Joe Franklin. Lawrence Steger is a filmmaker and a performance artist, just back from performing in Glasgow, Scotland. He\\'s going back there in January to collaborate with the performance artist, Ron Athey, who lives here in Chicago. And basically, we contacted Lawrence, and we told him the story that you heard over the course of the last half-hour, Kevin Kelly\\'s story, this guy who believes he only has six months to live, goes on this cross-country road trip.And as it turned out, when Lawrence Steger found out, the day that he found out that he was HIV positive, this was five years ago, on that day, it was the exact day that he and a friend left on a cross-country car trip. So we commissioned him to do a little piece about his experience. And here it is.Lawrence StegerTitle.Road.Treatment. It\\'s shot entirely on video, mostly handheld. Shaky, out of focus, bad color. Overblown color actually. Sort of the way colors are separated on an old television console, yet still has all the outlines of the images repeated. The outlines of the images, the silhouettes, repeated over and over, ad nauseam, and fading into each other.Can I get this microphone adjusted a little, so I don\\'t have to lean over so much?Ira GlassYeah, sure. Just pull that.Lawrence StegerCheck one, two, three. Sound better? Yeah. Sorry. Thanks.Synopsis. The story concerns Luke, gay, white, Midwestern, late twenties. Follows Luke on the day that he is informed of his HIV positive status. Luke cops a stance of cold, brittle, not unlike the Harrison Ford narration onBladeRunner,but there\\'s a hint of vulnerability to Luke.Have we got the Harrison Ford or the Rutger Hauer voice?Ira GlassYeah.Lawrence StegerGreat. Roll it.Harrison FordEnhance 5719. Track 45 left.Lawrence StegerGreat. Take it under me. That\\'s great. Story follows Luke. He\\'s accompanied by his college buddy, Bill, and both are packed for a road trip across the country to San Francisco.This isn\\'t the right section ofBladeRunner.Can you just kill theBladeRunner?Locations. Car interior. Gas station exterior. HIV clinic parking lot. HIV clinic interior. Highway. Music. Strauss\\'s four last songs, particularly \"Ruhe, meine Seele!\" sung by Dame Janet Baker.Can you take it under me? Hold.Follows Luke and his friend Bill to the gas station and to the clinic, the last stop before getting on the highway.OK. Take it out. Take out the Janet Baker.Bill loads one hits of pot while driving on the way to the gas station and to the clinic.Can we nix that Strauss music? It\\'s too mournful. There\\'s really no music on the soundtrack. It\\'s stark, crisp. Maybe some songs coming from the radio at the clinic\\'s desk?[RADIO STATIC]Great. And definitely from the car radio mixed with surfing on an AM radio. No music.The drama is constantly being undermined through the cool, collective quality of Luke\\'s demeanor. He seems detached, quote, \"I am not sure how I feel. I feel a little sad, sort of mad. I guess blank. But I\\'m OK. I\\'m sure I\\'ll get a handle on it,\" end quote. Luke thinks he\\'s sounding like a short story assignment in a creative writing class or, worse, trapped inside an artsy novel.Luke imagines himself in a television dramatization of himself. Camera pulls back from behind Luke\\'s head, sort of on a mini-crane. Camera floats, hovers over the back of Luke\\'s head. \"The ceiling of the car must be incredibly high,\" he thinks to himself.Bill pulls into the closest parking spot in the clinic, blows out the last of the one-hit, and, as he\\'s knocking the brass pipe into the ashtray, turns to Luke with that slightly watery look in his eyes from too much intake. Luke takes it as one of those Care Bear looks that he\\'s experienced before from Bill. A little clumsy since Bill has to force his face into a sympathetic posture. Quick close-up on the corner of Bill\\'s mouth.There\\'s a moment of anger flashing in Luke when he registers Bill\\'s look. When Bill asks him, \"What are you thinking about?\" Luke responds, \"Who\\'s thinking? Nothing.\" \"I hate thinking I\\'m in a novel,\" he thinks to himself. Cut to interior of the clinic, the reception area.Can we change this sound bed here?[ROMANTIC MUSIC PLAYING]Great. Take it down just a-- Great.In the scene that we talked about on the phone, the clinic waiting room scene, that scene flips back and forth between various security black-and-white cameras mounted at the ceilings. The nurse assigned to Luke\\'s anonymous number is a black drag queen named Stephanie, who wears a full nurse\\'s outfit complete with a little paper hat that sits atop of her freshly coiffed hairdo. She\\'s the only one in the clinic who wears a real uniform. Stephanie has the longest fingernails that Luke has ever seen on anyone. Luke thinks briefly about how the fingernails keep on growing even after a person dies, but he pushes that thought away with this fingers to his forehead, wonders why he is thinking about that. It\\'s that novel thing again.Stephanie, the drag queen nurse, walks Luke back to the small cubicles that the tests are administered in and then used to relay the results. Luke\\'s narrator imagines how many people have been in these cubicles and what they would look like if they were all piled on top of one another. Piles of tested bodies. Cut to Stephanie closing the hollow core door, makes that hollow core door sound.Do we have that on cart?[SOUND OF HOLLOW DOOR CLOSING]Perfect. Maybe a shot from a security camera that shows all of the cubicles in the clinic. Luke imagines himself in a George Tooker painting that was reproduced in his sixth grade reader. He wonders what his sixth grade teacher would think of Stephanie. He wonders if his sixth grade teacher was ever tested. He imagines her body in the pileup of bodies who have come to the clinic.Stephanie has been saying something, and Luke has to blink his eyes again to refocus. He explains to Stephanie that he has been expecting this result, that he\\'s experienced a large share of AIDS, cared for, and, likewise, buried lots of his friends. But it doesn\\'t seem to come as a surprise. Stephanie says, \"You can cry or hold my hand. I just want you to sit for a moment and let it sink in.\" Luke thinks, \"Whatever.\"Cut to Bill in waiting room, flipping throughPeople\\'sTheYearinPictures.Cut back to close-up of Luke, forehead wrinkled. He thinks his narrator wants him to get out of the cubicle. He waits for Stephanie to finish her spiel, thanks her, and shakes her hand, getting a slight scrape from one of the fingernails. Close-up on Luke\\'s hand, no scratch. The walls seem to pulsate as Luke walks down the hallway to the reception area. He tries to be as blank as possible to Bill.I\\'m not sure about this final section. I know that we talked about it ending on the highway with the car being surrounded by bikers on their way to the Sturgis bikers\\' rally. But now I like the idea of it ending on the highway entrance ramp.Cut to interior of car pulling out of parking lot. Luke keeps looking straight ahead, as he murmurs, \"I\\'m positive.\" Long, slow pan from the back of Luke\\'s head to the back of Bill\\'s. There\\'s no reaction in either of their faces or, better, the profiles of their faces. This is the longest shot. They don\\'t look at each other.Perhaps this scene would be shot in blue screen with the camera in the backseat and the sky surrounding the two heads of Bill and Luke having that old, scratchy, 16 millimeter time lapse exposure, so the clouds seem to be moving at a rapid pace. Flickers, flips back and forth between real sky and blue screen backdrop. Voice comes up on a car radio. \"Trying not to think of the future. Just live in the present moment.\" Something like that. You got that? It comes onto the radio.Kevin KellyI also decided that it was an entirely unnatural and inhumane way to live, and that having a future is part of what being human is about, and that when you take away the future for humans, you take away a lot of the humanness, and that it\\'s not actually a very good thing to live entirely in the present, that one needs to have a past.Lawrence StegerLuke comments to Bill, \"Live entirely in the present, huh?\" Bill drives and looks out the corner of his right eye to see what position Luke is holding his head in. Luke looks outside passenger window and, every once in a while, turns to glance at Bill. Long pause. There\\'s dead air. Cut to Luke\\'s point of view. Car is pulling onto entrance ramp of highway. Luke sees hitchhiker with a sign that he stands for any remote meaning to the narrative. Luke sees himself outside of his own story. He can\\'t read the hitchhiker\\'s sign. He knows that he\\'s on a long silent journey. He leans over to turn off the radio. Cut to black.[MUSIC - \"(UH-OH) GET OUT OF THE CAR\" BY THE TRENIERS]Ira GlassWell, Lawrence Steger is a Chicago performance artist and filmmaker.Act Four: Act FourIra GlassThis isYourRadioPlayhouse.I\\'m Ira Glass. OK, what am I doing right now? What am I doing right now? That\\'s right. That\\'s right. Eye contact.Joe FranklinLook right in the eye. Eye contact is everything.Ira GlassThat\\'s right. Advice from the master. OK. Let\\'s review our program so far. Let\\'s just review. Let\\'s just get things straight right now. Our stories so far have been about people whose futures were taken from them and were thrown into the present in one way or another.I guess when any big emotional moment happens, you are thrown in the present in a really aggressive, aggressive way, whether you choose to or not. You have this hyper sense of reality. Well, the next story is about someone whose future was taken from him when he was wrongly imprisoned for 20 years. And his sentence was commuted two years ago. And he found himself reborn into everyday life.Ed RyderIt was like I just-- I don\\'t know. It seemed like the oxygen was even different. You know what I mean? The air seemed to be thinner.I\\'ll tell you what\\'s been a real kick for me, getting up, cooking breakfast. Making pancakes, and eggs, and bacon, and stuff like that. It sounds drab maybe to the common-- everybody would think of that as, \"That\\'s really drab.\" But for me, that\\'s really exciting. And that\\'s one of the things I always dreamed of doing. I also dreamt of finding a very lovely lady, and I have. Inside, I\\'m happy. Inside.Ira GlassThis is Ed Ryder. He was in prison for murder and was doing time in Graterford Prison in Pennsylvania. And a few years ago, a key witness who had testified against him admitted to lying while under oath, and other evidence came forward. He was made a free man. Back when he was in Graterford Prison, he played trumpet, and he sang with a jazz band. And that whole time, he dreamed of this new life, a new life that he would have outside as a professional musician. And that\\'s what he\\'s working on. That\\'s what he\\'s working on right now. And he\\'s playing. He doesn\\'t have a CD yet, but he\\'s playing gigs in the real world.Ed RyderThe first time I played, when I got out of prison, I didn\\'t feel compelled to be so exact like I did when I was at Graterford. Inmates are the worst, critical people in the world. They criticize anything you do. In prison, you have a lot of musicians. After all, musicians, they don\\'t make no money, so I guess the first place you find them at is in prison. But you have a lot of guys who are musicians.And even though they might not be actively playing anymore, they\\'ll be quick to criticize you, whether the chord is not right, or whether you didn\\'t flatten the ninth, whether you didn\\'t raise this fifth, or you guys didn\\'t play the changes right. Although it might not have took away from the structure of the music, it\\'s just that, I guess you can say that prisoners have a tendency to think like classical musicians would. Everything has to be perfect and exact the way it\\'s heard. And everything has to be like that. There\\'s no going against the grain.And here, in the world, people are a little different. They don\\'t concern themselves so much with that, as much as how are you entertaining us? How are you helping us to feel better about ourselves? How are you making us feel better? At Graterford, there is nothing you can do to make them feel better, except to release them.So if you can play for a Graterford audience, you don\\'t even look for an applause. Just as long as they don\\'t boo you, you\\'re all right. If they can\\'t find nothing wrong with the music, they\\'ll tell you, \"You just didn\\'t turn right. When you had the horn up, you didn\\'t hold it on a 45 degree angle. It didn\\'t look right.\" So they\\'ll find something.Ira GlassNow you know how we heard people earlier in the program talk about the importance of living in the present. But when we interviewed Ed Ryder, he pointed out that, in prison, the most important thing is to keep your eye on the future, on the day that you\\'re going to get out. And that the guys who just live in the present do really badly, because, of course, the present is so terrible.Ed RyderI think when I was in prison, I dreamed more about the future in my head. I just had a lot of plans, a lot of things that I just dreamed about, I just dreamed of doing and dreamed of accomplishing. You\\'re forced almost to. You know what I mean? You have nothing else to look forward to but tomorrow. You\\'re constantly hoping and hoping. You\\'re trying to plan something for the future.Ira GlassWe asked him if he is still playing the same music now that his future is here and he\\'s out. And we thought that maybe the songs that he used to play would just bring back these hard memories of prison that he\\'d rather just as soon avoid. But he said, no, he plays the same numbers now that he used to, though sometimes they mean something different to him today.Ed RyderWhen I was in Graterford, I always listened to it. I had a tape of \"God Bless the Child That\\'s Got His Own\" by Billie Holiday. And what it meant to me when I was at Graterford-- and it has the same meaning now, but it\\'s different. In the sense that, when I was at Graterford, when she said, \"Them that\\'s got shall get, Them that\\'s not shall lose. So the Bible says, and it still is news. Mama may have, Papa may have, But God bless the child that has his own.\"Well, in my mind, at Graterford, I thought that, yes, I was the child that had his own, because I was out here on my own. I had no help at the time. There was no hope. I seen no way. I was like a child. I was like a child because I had no one I can turn to. My parents had passed. I had no one I could turn to.And I felt like every time I would listen to that, I felt as though she was talking directly to me. And for me, that meant that I was on my own in this prison situation. And I was going to have to make it the best way that I could. And I was going to have to muster all the energy that I could possibly muster. Now when I was released and I heard the same song again, it still had that meaning, but now it\\'s a different-- I\\'m on my own differently because I\\'m not in prison anymore.That\\'s not the struggle no more. It\\'s me. But I\\'m on my own now because I\\'ve got things that I have to do. I have responsibilities now that I have to take care of. I have bills that I have to pay. I have job responsibility.I have a lot of other things that I have to do, and I have to do these things on my own now. I don\\'t have no prison guards waking me up in the morning, telling me, \"Hey, it\\'s time to get up,\" or \"It\\'s time to go eat, \" or \"It\\'s time where you guys can go to a shower.\" I don\\'t have that anymore. I\\'m on my own. So all this now is dependent upon me and my own initiative.[SINGING] Them that\\'s got shall get, them that\\'s not will lose. So the Bible said, and it still is news. Mama may have, Papa may have, but God bless the child that\\'s got his own, that\\'s got his own. You know the strong get more, while the weak ones fade. Empty pockets don\\'t, they don\\'t make the grade. Mama may have, Papa may have, but God bless the child that\\'s got his own, that\\'s got his own. Money, you\\'ve got lots of friends. They all keep hanging around your door. But when money\\'s gone and all of the spendings end, they don\\'t come around, they won\\'t come around no more. Rich relations give a crust of bread and such. Go on and help yourself, but you better not take too much. Mama may have, Papa may have, but God bless the child that\\'s got his own. God bless the child that\\'s got his own.That\\'s basically some of it.Ira GlassEd Ryder joining us in the playhouse from the studios of WHYY in Philadelphia, speaking with me and associate producer Nancy Updike. Ed Ryder\\'s a big Billie Holiday fanatic. That was the word he used, \"fanatic,\" when we asked him about it. So when we asked him to play a number with his horn, with his trumpet, he played \"Lover Man.\"[MUSIC - \"LOVER MAN\" BY BILLIE HOLIDAY]CreditsIra GlassThat\\'s pretty much all the time we have for this evening.[FUNDING CREDITS]This show was produced by Dolores Wilber, Peter Clowney, Nancy Updike, Alix Spiegel, and myself. Contributing editors Paul Tough and Jack Hitt on the west coast, Margy Rochlin on the east coast. I\\'ve got that backwards. Paul Tough and Jack Hitt on the east coast. Margy Rochlin on the west. You see, you get so confused when you have two pieces of music running at the same time.[ACKNOWLEDGEMENTS]Torey Malatia has supported this show from the start. We\\'ll be back next week, same time, we hope. From WBEZ Chicago, I\\'m Ira Glass.,PrologueIra GlassJoe Franklin?Joe FranklinI\\'m ready.Ira GlassIt\\'s Ira Glass here.Joe FranklinOh, you\\'re the emcee on the show, Ira.Ira GlassI am the emcee on the show. Yes.Joe FranklinOh great. Ira? I-R-A, Ira?Ira GlassIra, I-R-A.Joe FranklinOh, great. Now hold on one second, Ira. Don\\'t go away. Hello? [UNINTELLIGIBLE]. Call me after 3 o\\'clock. I have great news for you. Ira.Ira GlassYes.Joe FranklinSo listen, Tony. If the phone rings, take it in the back. And then come out and tell me who it is. Just say, Joe\\'s being with a camera crew. Just for about 10 minutes. We\\'ll do about five minutes, 10 minutes, right, Ira?Ira GlassThat\\'s right.Well, one great thing about starting a new show is utter anonymity. Nobody really knows what to expect from you. This interviewee did not know us from Adam.OK, we\\'re what? About a minute. We\\'re one minute five into the new show. Right now, it is stretching in front of us, a perfect future yet to be fulfilled. An uncharted little world. A little baby coming into the world, no little scars on it or anything.Nobody hearing my words right now is thinking, \"Oh, man, remember that show, back when it used to be good? That show, I never missed that show back in the old days, back in the first couple years before it got so-called popular. Back when it was still good.\"No, actually, I think that force, that human desire to say that is so strong, to say that \"I was there back when that show was good,\" that force is so strong, it is so basic to who we are as people that I know-- OK, what are we? We are two minutes into the program-- I know that somewhere out there, one or two of you are saying, \"Oh, sure. I used to listen to that show back in the first 30 seconds, back when it used to be really good. Remember back when they used to do all that crazy stuff? When they had that guy on the phone? Remember back then?\"Well, from WBEZ, in the glorious city of Chicago, Illinois. The name of this show isYourRadioPlayhouse.I\\'m your emcee. I\\'m your emcee, Ira Glass.OK, the idea of this show, this new little show, is stories, some by journalists and documentary producers, like myself, some just regular people telling their own little stories, some by artists, and writers, and performers of all different kinds. And the idea is we\\'re going to bring you stuff you\\'re not going to find anywhere else. And there is also going to be music.And tonight\\'s show, we thought that we would have a theme. Tonight\\'s show is going to be New Beginnings. And to kick things off, I called the man who\\'s had, as best as anybody can tell, the longest running program in the history of television. His name is Joe Franklin, and his program ran for 43 years on local television in New York. And he claims that he invented the talk show format. And I called him to get some advice on how to create a long-running, healthy program.Joe FranklinI\\'ve been called in many times to give a sort of a Dean, the elder statesman, even though I\\'m still a young kid. But I\\'ve been called in to give this kind of advice to new kids on the block. Conan O\\'Brien had me on his first show. And people like that. There\\'s no guidance. It\\'s a matter of paying attention.Your voice, I\\'ve heard so much about the sparkle, about the energy in your voice. The voice, on radio especially, is everything. And when the guest is sitting with you, you\\'ve got to look into his eyes. Many times, you get an author on there who\\'s begrudgingly sitting there. He\\'d rather be home in his ivory tower.And above all, get the plug fast. Otherwise, he\\'s worried you\\'re not going to make the plug for the book. And I created a line, Ira, that\\'s been picked up by George Burns. I always said, the main ingredient for longevity in the talk show field, where the mortality rate is so staggering, the main ingredient is sincerity. And once you learn to fake that, then you got it made. I made that up. And I just played it by ear. I was a natural born talker, I guess.Ira GlassSo let me just summarize what I\\'m getting from you. You\\'re saying you should just pay attention, look people in the eye, be sincere when I\\'m on the air, get in the plug early.Joe FranklinThat\\'s the key. And don\\'t look in their nose or their belly button. Look right in the eye. Eye contact is everything. And as I say, it\\'s a lot of fun.And I never called anybody in my life to come on to my show. And I\\'m sure that they\\'ll be coming to you too. I heard about you, and I called you and wanted to wish you good look, Ira. Imagine the thrill of John F. Kennedy walking into my studio. Richard Nixon. Ronald Reagan, five times. And Bing Crosby.And I\\'ve got a major book out right now, by the way, Ira, calledUpLatewithJoeFranklinfrom Simon & Schuster. And if you find a copy in the store--Ira GlassYou see now, I guess I\\'ve sort of messed that one up, because I didn\\'t let you get in your plug early.Joe FranklinSee, that is my fault. I got it in toward the bitter end. It\\'s like Duke Ellington. He always used to have his dessert at the beginning of the meal. Duke Ellington said, because he would never have no room for it at the end. So he had his dessert at the beginning. Who is it? Well, no, good news, 6 o\\'clock.Ira GlassWell, Joe Franklin, thank you very much for being with us on our premier show.Joe FranklinIra, I\\'m going to be a listener and a fan. And let\\'s always be in touch.[MUSIC - \"DESTINATION MOON\" BY DINAH WASHINGTON]Act One: Act OneIra GlassAll right,YourRadioPlayhouse.All right. I\\'m making eye contact with you right-- wait, how does Joe put it? Wait a second.Joe FranklinLook right in the eye. Eye contact is everything.Ira GlassI am making eye contact with you right now. That is just how much I have already learned. OK, so the thing about new beginnings is that there are the ones that we actually undertake and then there are the ones that we just wish for. And the ones that we wish for pretty much outnumber the ones that we really undertake.Well, Kevin Kelly spent most of his twenties wandering around Asia. He was basically wandering around as a freelance photographer. And he found himself photographing a lot of religious ceremonies and drawn to religious ceremonies of all sorts. And he says that he was really confused about what he believed. And he was the kind of person who had always dreamt about a new beginning, where he wouldn\\'t struggle with these questions.Kevin KellyI would get twisted and caught up. And these things were in the background, consuming me. And actually, I found that I could think about little else for many, many months, that behind all that I was doing, there was always this unresolved question of was God real. And if he was real, then how could we ignore him? And if we were trying to not ignore him, what would we do? And if he was real, then what about these other things that people said about God?Ira GlassWe will not attempt to answer these questions, by the way, in this hour. I just want to just give you a sense of scope here, just modest scope. But what we want to talk about is what happened to Kevin Kelly. What happened is that at the age of 27, all of this changed when he came into Jerusalem on the eve of Easter and Passover. It was the same weekend. And flocks of people are coming into the city.Kevin KellySo I entered Jerusalem on Easter with a simple expectation that I was going to photograph another religious ceremony, another religious festival. And then, for various reasons, I got locked out of my hostel room. They had a curfew. And I didn\\'t make it back in time. And I was in quite a fix because I was a stranger in this very strange town. When it happened, I didn\\'t have enough money to stay elsewhere, nor did I even have knowledge of where to go.So I wandered the Old Town of Jerusalem at night, which had been shuttered up and was like a time machine. It was as if I had been transported back to the 15th century, because all the souvenir vendors were gone, and what was left were the labyrinthian paths of cobbled passageways. And I wandered around for a number of hours, and it was getting colder. Eventually, I found myself at the one place that was still open, which was some of the churches. And particularly, after wandering around until about 2:00 or 3:00 in the morning, I finally settled into the Church of the Holy Scepter, which is called and viewed as the church built over the mound where Jesus Christ was crucified.And I was getting very tired. And there weren\\'t many people around. And so eventually, I laid myself out on about the only flat area that was left, which was this marble slab underneath some pendants that had incense on them. And this was presumably the slab that commemorated the exact positioning of the crosses. So I slept there. I slept on the crucifixion spot on that night because it was the only place-- they had no place in the inn.I slept there until early morning, when the activity started to increase, and people started coming in. And I went out and followed the crowd where it was going when they were going out to the tombs area in Jerusalem. And I went out. And there were some folding chairs set up in front of this tomb area. And as the sun was coming up on that Easter morning, I was staring at empty tombs. And for a reason that I can not comprehend, as I sat on that chair contemplating this view of the early sun morning coming into the empty tombs, all that I had been wrestling with for the past many, many years in thinking about religion sort of became resolved in my mind. And at that very moment, I believed that Jesus Christ had, indeed, risen from those tombs.In an instant, the tension of trying to figure things out was resolved, because now, suddenly, everything was figured out. It was as if you had been working on a problem for a long time and suddenly the answer was there. And it was very clear that was the answer. And although there were many things that were still not clear to you, you were very certain that you were on the right path.Having that realization that I believe that Jesus Christ had actually risen from those tombs did not settle 1,001 other things about what one was supposed to do with that, what I was supposed to do with that. Did that mean I was supposed to be a monk? Did that mean I was supposed to be an evangelist?Did that mean that I had to immediately renounce all that I had, and get into sackcloths and ashes, and march out into the desert? All that was left unopened. And that is, in fact, what occupied my mind as I went back to my hostel to lay down and think about. Because I had no clue what it really meant to me ultimately, and that\\'s what I was pondering when I was laying there napping. And I wouldn\\'t say it was a voice, but there was an idea that came into my mind that just would not go away, and that was that I should live as if I would die in six months, that I should really, truly live. And that I could not tell for certain whether I would really die, but that either way, I should live as if I was going to die. And so that was the assignment.I\\'m a pretty rational person. I\\'m pretty logical. And after thinking the thought that I should live as if I was going to die in six months, the first thought that comes to my head was, \"Well, that\\'s pretty silly. I have no evidence whatsoever. I could live like I\\'m going to die in six months and not die at all. It would just be an interesting exercise.\"But at the same time, it was equally probable that I might die in six months. It happened all the time. There was no guarantee that I wouldn\\'t die. And so fairly quickly, I decided that I could not settle that issue of whether I would really die or not, or just think that I was going to die in six months, and that, in either case, the important thing was to live as if I really believed that I was going to die in six months, which is what I set out to do.The next couple days, I had the joyous experience of saying to myself, \"OK, what do I do for six months if I have only six months to live?\" And the answers to that surprised me as much as the assignment, because after thinking that through and contemplating it, the conclusion that I came to was that what I wanted to do for six months was to go home and be ordinary, to go back to my parents, to help them take out the trash, and trim the hedges, and move furniture around, and to be with them. And I was really shocked by that, because I thought that with six months to live, I would climb Mount Everest, or I would go scuba diving to the depths of the ocean, or get in a speedboat and see how fast I could go. But instead, I wanted to go back home and be with my family for that time.I, of course, did not tell anybody my crazy idea. This is, in fact, the first time I\\'m really talking about it publicly. Because it\\'s a very scary and alarming idea. And I never told anybody why I was coming home.I got back to where my parents live in New Jersey, and things were unbelievably ordinary. And yet, I found myself relishing the ordinariness and finding it in some ways as exotic as anything that I had traveled to see. I helped around the house. I dug up shrubs. I worked on a deck. I moved furniture, washed dishes.And I was intending to spend my last remaining six months at home getting to know my parents better and myself, hopefully. But about three months into that, my travel urges, I guess, got the better of me. And what I was most concerned about was I wanted to see my brothers and sisters. I had four brothers and sisters. And they were scattered all across the country. And so I felt very strongly that I wanted to see them before I died. And I got the idea that the way to see them was to ride my bicycle across the country and visit them on bicycle.But before I did that, I made up a will to dispose of the little things that I had. And I had some money left over. And one of the things I did with that money was I went to the bank and got some cashier\\'s checks for $500 and $1,000. And I mailed the money to various people anonymously as gifts. And I think giving away those thousands of dollars was the first true act of charity I had ever done. Because there was absolutely no way for any kind of gratitude or elevated feelings to come back to me, because the people had no idea who had sent them that money.It was really remarkable to see the consequences of getting an anonymous gift like that. Because when you get a check for $1,000 in the mail, you immediately become suspicious of all your friends of having given that to you. And so there\\'s this suspicion of charity, suspicion of goodness that starts to infect the people that are around you. And you look at someone, you think, \"Hm, I wonder if he gave me that $1,000?\"Ira GlassDoes that make sense? You look at them, and you think, \"I wonder if he gave me that $1,000?\" And then you act really nice to him. And then the next person you see, the next of your friends, you think, \"Could this be the person?\" And then you act really nice to them.I almost want to begin a little speech here about let us all now take up this practice. All of us. Everyone within the sound of my voice. If we all could just do this right now, then I would believe that our little radio show, just 19 minutes into the program, had contributed in some way.Kevin KellyI had enough money left over to basically pay for food and whatnot on my bicycle journey across America. And the path that I had to visit all my brothers and sisters was not a direct route, going from San Francisco to New York. I actually had to go up to Idaho, and back down to Texas, and then back up through Indiana. So it was a 5,000 mile trip. The day which, coincidentally, was exactly six months from when I had this assignment, was October 31. It was Halloween. And so the plan would be that I would ride back home, so that I would come back to die on the day after Halloween.I think there are a lot of people who have trouble staying in the present. There are some people who like to slip into the past as a means to perhaps fantasize or escape. And they find that the past is the place that they retreat to. And I often retreat to the future. I was not a person who planned or had a career staged out, or who had a particular woman he wanted to marry some day, or some vision of a house. The future that I found so hard to give up was a much more insidious type.It was that of I\\'d like to buy this record because, in the future, I want to hear this song again and again. Or I will read this book, and there are some cool ideas in it because someday I may write an article about this. And it\\'s good to know that. There was a sense in which my entire life was shifted to the future. And the thought of doing something now for the enjoyment, or the pleasures, or the principle of the function of just right now, without any sense at all that it would ever be used again or that it could ever be brought forward, was extremely difficult and disconcerting. And I fought it day by day and tooth by tooth.One of the ways I dealt with this was that I was actually able, by the last weeks, to not think about my life beyond Halloween. There was a way which I had just-- each time a thought came up about something that was beyond this horizon, I just said, \"Nope, can\\'t think about it. It doesn\\'t work. We have to dwell in the present.\"And at the same time I was doing that, and I was able to do that, I also decided that it was an entirely unnatural and inhumane way to live. And that having a future is part of what being human is about. And that when you take away the future for humans, you take away a lot of their humanness. And that it\\'s not actually a very good thing to live entirely in the present. That one needs to have a past, and one needs to have a future to be fully human.It was a journey that began at the tomb of Jesus. And as I set off to my own presumed death, I did, indeed, think about Jesus Christ who, according to the Gospels, surrendered his own life in a very knowing way. So we have the history in the Gospels of Jesus\\'s torment in his soul, as he approached what he knew of his anointed time to die. So it was, again, that very harsh information of knowing when you\\'re going to die.And Jesus\\'s soul was in great turmoil and pain because of knowing that. And I think I did experience some of that, not because I had the same weight. It was just my own life. But Jesus prayed that this burden be lifted, and there were days when I did pray that, that if I didn\\'t have to die, I really would rather not.By late fall, I was pedaling through the Appalachians, and it was getting colder and colder. And my hands were freezing on the bicycles, and there was ice on my tents in the morning when I got up. And as each day went on, I was coming closer and closer to terrain that I was familiar with and that felt like home. And I was riding into New Jersey, and I was elated. I was elated that I had accomplished this long journey. And I was elated that I was home to see my parents.And I came in to their house on Halloween day. And I was so filled with ideas, and things, and emotions, that I didn\\'t really say very much. And again, I couldn\\'t say very much. I think we had a wonderful dinner. They were, of course, glad to see me because they hadn\\'t seen me in a long time. They knew I was coming back, and we had a wonderful dinner.We had baskets of candy, which I gave out to the kids. And we had a discussion that night which was about nothing in particular. It was not about the future. It was just about, I think, talking about our family and my brothers and sisters. And I was telling them all that I  had learned about them. And so it was a very together and, again, not a very dramatic evening, but just a pleasant one, one that you might have a memory about as you were dying, which was not a special evening, but just an ordinary evening.And I went to bed that night, which was a very difficult thing to do because I was fully prepared at that point never to wake up again. I had been praying. I had gotten everything arranged. I had fully gone through in my own mind, in my own soul, all the things that I might have regretted. And I had righted as many of those as I thought I could through letters. And I was prepared, as much as anybody could be prepared to die.And so I went to bed while the kids were still ringing doorbells. And I went to sleep, because I was very tired after that long trip. And I didn\\'t know what was going to happen the next day. I thought I had done all that I could. And the next morning, I woke up. And the next morning, I woke up, and it was as if-- The next morning I woke up, and it was as if I had the entire-- my entire life again.The next morning, I woke up, and I had my entire life again. I had my future again. There was nothing special about the day. It was another ordinary day. I was reborn into ordinariness. But what more could one ask for?Ira GlassWell, Kevin Kelly is 43 now. That happened when he was 27. In his latest rebirth, he is the executive editor ofWiredmagazine, a glossy magazine about the future and the present. He told us that he wasn\\'t even sure he has ever even told his parents this story, even this many years later. Anyway, he spoke with me and Paul Tough from the studios of KQED in San Francisco. This isYourRadioPlayhouseon WBEZ Chicago.Act Two: Act TwoReceptionistGood morning. Glass, Jacobson & Associates.Ira GlassHey, is Barry there?ReceptionistPardon me?Ira GlassIs Barry there?ReceptionistYes, he is. He\\'s on another call. Do you wish to hold, or I could take a message, or you can leave one on his voicemail?Ira GlassIt\\'s his son.ReceptionistUh-huh.Ira GlassIsn\\'t this starting to sound like-- this little dialogue-- isn\\'t it starting to sound like an episode ofDr.Katz?You know that TV show? \"This is his son.\" \"Uh-huh. Yeah.\" Anyway, so I thought I would call my parents in Baltimore and ask for advice on this, our first evening of our brand new radio show,YourRadioPlayhouse.Ira GlassCan I leave a message with you? Or is it better to use his voicemail?ReceptionistIt doesn\\'t matter. I\\'ll put it right on his voicemail.Ira GlassOK, let\\'s do.ReceptionistOK, hold on, please.[MUSIC - \"NICE \\'N\\' EASY\" BY FRANK SINATRA]Ira GlassThis is the story of my childhood right there. Dad is a little too busy to talk. But there\\'s the recording of Frank Sinatra when needed.[TELEPHONE RINGING]Shirley GlassHello?Ira GlassHey, Mom.Shirley GlassOh, hi, Ira.Ira GlassHow you doing?Shirley GlassFine. Can you hold on a second?Ira GlassSure.This is what it\\'s like with my parents. They\\'re so busy. Call them. Put on hold. [SINGING] Baby, what\\'s your hurry?When I call my little sister, she works at Disney, and so there\\'s Disney music playing on the hold system. But there\\'s a lot of Disney music. And there\\'s a lot of it that peo--Shirley GlassHi.Ira GlassHi, Mom.Shirley GlassYeah.Ira GlassIt\\'s me.Shirley GlassYeah.Ira GlassListen, can I record a quick conversation with you about something?Shirley GlassWhat about?Ira GlassWell, you know the new show goes on the air this week. And as part of the show, we were thinking about having me call around to different people and get advice from them. And I wanted to know if you would have any advice.Shirley GlassHm. Do I have any advice? Well, can I ask another question?Ira GlassSure.Shirley GlassWho is your target audience?Ira GlassYou are such a pro.Shirley GlassI\\'m saying that you\\'re in danger of appealing to a narrow range of listeners if it becomes a little too-- I don\\'t know what word to use.Ira GlassArtsy.Shirley GlassArtsy, yeah.Ira GlassAre you and Dad still worried about me making a living in public radio? I know just for years, you were urging me to just get out and get, basically, any job in TV that I possibly could. But now that I\\'ve got my own show, are you guys still worried? Or do you feel like things are going OK? Do you want me to get into television still?Shirley GlassNow that Hugh Grant is such a big star, and everybody who sees you or sees your picture thinks how much you look like Hugh Grant, that fires up that TV thing again in me.Ira GlassAll right. I\\'m stopping the tape. This is me live. That was the tape. Only my mother could possibly believe this. Only a mother could pretty much believe this. Other adults see me, and the thought that goes through their head is not Hugh Grant. The thought that goes through their head is tall Jew.Shirley GlassWell, gosh, wouldn\\'t they want this wonderful humanistic, intelligent reporter who looks like Hugh Grant?Ira GlassAll right. Yeah, let\\'s move on.Shirley GlassWhat\\'s the theme for this week?Ira GlassThe theme for this week is new beginnings. And we have several stories, people telling about various ways in which their life began anew at some point.Shirley GlassThat\\'s very interesting, because I just did an interview this morning with a newspaper reporter about roman--Ira GlassI\\'m just going to stop the tape again. This is my whole life. I call my mom for an interview, and it\\'s not even her first interview of the day. I was lucky to get a booking. She\\'s a therapist, and sometimes she gets called by the papers and stuff.Shirley Glass--mance, romantic love. And people\\'s expectations about relationships. And one of the things I believe is that there are a lot of people who are good at beginnings, but they\\'re not good at middles.Ira GlassWhich means what?Shirley GlassIt means that they like the beginning, where there\\'s all this idealization and romantic projections. And the other person can be who they think they should be, rather than who they are. And when they get to the middle phase--Ira GlassAll right. I\\'m just going to stop the tape. Listen, all of you in the audience right now, let\\'s just agree right now, it\\'s the very beginning of our relationship. It\\'s the very beginning of our radio relationship right now. This is our little first little radio date, and I just don\\'t want any idealizing on either side. OK? Let\\'s just make eye contact right now. Remember what Joe Franklin said about the eye contact. No idealizing.Shirley Glass--where there\\'s more of a reality-based relationship, they run away from it because it\\'s not as exciting.Ira GlassIt\\'s interesting that you say that because, actually, as we\\'ve approached the first show, I\\'ve realized that I am much more comfortable with the notion of every day, work-a-day radio work, and being on every week, and having pieces on the air. But the notion of saying in a really big way, \"OK, this is the beginning. It\\'s the beginning, and we\\'re going to have a big beginning, and we\\'re going to make an epic statement,\" I feel very uncomfortable with.Shirley GlassSo you are good at middles.Ira GlassI\\'m better, I think, at middles than at beginnings.Shirley GlassThat\\'s good. That\\'s good because practically all of life is the middle.Ira GlassWe have gotten so deep here. I never expected that it was going to get so deep. I\\'m just very pleased at how deep this has gotten. Now you\\'re sitting there, you\\'re thinking, \"Is he making fun of me? What\\'s happening now? Where are you?\" No, I\\'m not. I\\'m not, actually. I\\'m not. I\\'m not. I\\'m not. You have nothing to worry about.Shirley GlassAre we going to get a tape of this since we\\'re outside the Chicago listening area?Ira GlassDepending on how you sound, yeah.Shirley GlassOK.Ira GlassWell, that\\'s my mom, Shirley Glass, speaking to us from Baltimore. I don\\'t think she\\'s going to get a tape. I do not think she\\'s going to get a tape.Act Three: Act ThreeIra GlassWell, next on our little playhouse stage, we have Mr. Lawrence Steger. Now those of you who have been listening carefully to our program and taking notes, and I know there are many of you out there, you know what I\\'m supposed to do at this point. You know because you were listening carefully to Joe Franklin at the very beginning of our program.Joe FranklinAbove all, get the plug fast.Ira GlassThat\\'s right. Well, thank you, Joe Franklin. Lawrence Steger is a filmmaker and a performance artist, just back from performing in Glasgow, Scotland. He\\'s going back there in January to collaborate with the performance artist, Ron Athey, who lives here in Chicago. And basically, we contacted Lawrence, and we told him the story that you heard over the course of the last half-hour, Kevin Kelly\\'s story, this guy who believes he only has six months to live, goes on this cross-country road trip.And as it turned out, when Lawrence Steger found out, the day that he found out that he was HIV positive, this was five years ago, on that day, it was the exact day that he and a friend left on a cross-country car trip. So we commissioned him to do a little piece about his experience. And here it is.Lawrence StegerTitle.Road.Treatment. It\\'s shot entirely on video, mostly handheld. Shaky, out of focus, bad color. Overblown color actually. Sort of the way colors are separated on an old television console, yet still has all the outlines of the images repeated. The outlines of the images, the silhouettes, repeated over and over, ad nauseam, and fading into each other.Can I get this microphone adjusted a little, so I don\\'t have to lean over so much?Ira GlassYeah, sure. Just pull that.Lawrence StegerCheck one, two, three. Sound better? Yeah. Sorry. Thanks.Synopsis. The story concerns Luke, gay, white, Midwestern, late twenties. Follows Luke on the day that he is informed of his HIV positive status. Luke cops a stance of cold, brittle, not unlike the Harrison Ford narration onBladeRunner,but there\\'s a hint of vulnerability to Luke.Have we got the Harrison Ford or the Rutger Hauer voice?Ira GlassYeah.Lawrence StegerGreat. Roll it.Harrison FordEnhance 5719. Track 45 left.Lawrence StegerGreat. Take it under me. That\\'s great. Story follows Luke. He\\'s accompanied by his college buddy, Bill, and both are packed for a road trip across the country to San Francisco.This isn\\'t the right section ofBladeRunner.Can you just kill theBladeRunner?Locations. Car interior. Gas station exterior. HIV clinic parking lot. HIV clinic interior. Highway. Music. Strauss\\'s four last songs, particularly \"Ruhe, meine Seele!\" sung by Dame Janet Baker.Can you take it under me? Hold.Follows Luke and his friend Bill to the gas station and to the clinic, the last stop before getting on the highway.OK. Take it out. Take out the Janet Baker.Bill loads one hits of pot while driving on the way to the gas station and to the clinic.Can we nix that Strauss music? It\\'s too mournful. There\\'s really no music on the soundtrack. It\\'s stark, crisp. Maybe some songs coming from the radio at the clinic\\'s desk?[RADIO STATIC]Great. And definitely from the car radio mixed with surfing on an AM radio. No music.The drama is constantly being undermined through the cool, collective quality of Luke\\'s demeanor. He seems detached, quote, \"I am not sure how I feel. I feel a little sad, sort of mad. I guess blank. But I\\'m OK. I\\'m sure I\\'ll get a handle on it,\" end quote. Luke thinks he\\'s sounding like a short story assignment in a creative writing class or, worse, trapped inside an artsy novel.Luke imagines himself in a television dramatization of himself. Camera pulls back from behind Luke\\'s head, sort of on a mini-crane. Camera floats, hovers over the back of Luke\\'s head. \"The ceiling of the car must be incredibly high,\" he thinks to himself.Bill pulls into the closest parking spot in the clinic, blows out the last of the one-hit, and, as he\\'s knocking the brass pipe into the ashtray, turns to Luke with that slightly watery look in his eyes from too much intake. Luke takes it as one of those Care Bear looks that he\\'s experienced before from Bill. A little clumsy since Bill has to force his face into a sympathetic posture. Quick close-up on the corner of Bill\\'s mouth.There\\'s a moment of anger flashing in Luke when he registers Bill\\'s look. When Bill asks him, \"What are you thinking about?\" Luke responds, \"Who\\'s thinking? Nothing.\" \"I hate thinking I\\'m in a novel,\" he thinks to himself. Cut to interior of the clinic, the reception area.Can we change this sound bed here?[ROMANTIC MUSIC PLAYING]Great. Take it down just a-- Great.In the scene that we talked about on the phone, the clinic waiting room scene, that scene flips back and forth between various security black-and-white cameras mounted at the ceilings. The nurse assigned to Luke\\'s anonymous number is a black drag queen named Stephanie, who wears a full nurse\\'s outfit complete with a little paper hat that sits atop of her freshly coiffed hairdo. She\\'s the only one in the clinic who wears a real uniform. Stephanie has the longest fingernails that Luke has ever seen on anyone. Luke thinks briefly about how the fingernails keep on growing even after a person dies, but he pushes that thought away with this fingers to his forehead, wonders why he is thinking about that. It\\'s that novel thing again.Stephanie, the drag queen nurse, walks Luke back to the small cubicles that the tests are administered in and then used to relay the results. Luke\\'s narrator imagines how many people have been in these cubicles and what they would look like if they were all piled on top of one another. Piles of tested bodies. Cut to Stephanie closing the hollow core door, makes that hollow core door sound.Do we have that on cart?[SOUND OF HOLLOW DOOR CLOSING]Perfect. Maybe a shot from a security camera that shows all of the cubicles in the clinic. Luke imagines himself in a George Tooker painting that was reproduced in his sixth grade reader. He wonders what his sixth grade teacher would think of Stephanie. He wonders if his sixth grade teacher was ever tested. He imagines her body in the pileup of bodies who have come to the clinic.Stephanie has been saying something, and Luke has to blink his eyes again to refocus. He explains to Stephanie that he has been expecting this result, that he\\'s experienced a large share of AIDS, cared for, and, likewise, buried lots of his friends. But it doesn\\'t seem to come as a surprise. Stephanie says, \"You can cry or hold my hand. I just want you to sit for a moment and let it sink in.\" Luke thinks, \"Whatever.\"Cut to Bill in waiting room, flipping throughPeople\\'sTheYearinPictures.Cut back to close-up of Luke, forehead wrinkled. He thinks his narrator wants him to get out of the cubicle. He waits for Stephanie to finish her spiel, thanks her, and shakes her hand, getting a slight scrape from one of the fingernails. Close-up on Luke\\'s hand, no scratch. The walls seem to pulsate as Luke walks down the hallway to the reception area. He tries to be as blank as possible to Bill.I\\'m not sure about this final section. I know that we talked about it ending on the highway with the car being surrounded by bikers on their way to the Sturgis bikers\\' rally. But now I like the idea of it ending on the highway entrance ramp.Cut to interior of car pulling out of parking lot. Luke keeps looking straight ahead, as he murmurs, \"I\\'m positive.\" Long, slow pan from the back of Luke\\'s head to the back of Bill\\'s. There\\'s no reaction in either of their faces or, better, the profiles of their faces. This is the longest shot. They don\\'t look at each other.Perhaps this scene would be shot in blue screen with the camera in the backseat and the sky surrounding the two heads of Bill and Luke having that old, scratchy, 16 millimeter time lapse exposure, so the clouds seem to be moving at a rapid pace. Flickers, flips back and forth between real sky and blue screen backdrop. Voice comes up on a car radio. \"Trying not to think of the future. Just live in the present moment.\" Something like that. You got that? It comes onto the radio.Kevin KellyI also decided that it was an entirely unnatural and inhumane way to live, and that having a future is part of what being human is about, and that when you take away the future for humans, you take away a lot of the humanness, and that it\\'s not actually a very good thing to live entirely in the present, that one needs to have a past.Lawrence StegerLuke comments to Bill, \"Live entirely in the present, huh?\" Bill drives and looks out the corner of his right eye to see what position Luke is holding his head in. Luke looks outside passenger window and, every once in a while, turns to glance at Bill. Long pause. There\\'s dead air. Cut to Luke\\'s point of view. Car is pulling onto entrance ramp of highway. Luke sees hitchhiker with a sign that he stands for any remote meaning to the narrative. Luke sees himself outside of his own story. He can\\'t read the hitchhiker\\'s sign. He knows that he\\'s on a long silent journey. He leans over to turn off the radio. Cut to black.[MUSIC - \"(UH-OH) GET OUT OF THE CAR\" BY THE TRENIERS]Ira GlassWell, Lawrence Steger is a Chicago performance artist and filmmaker.Act Four: Act FourIra GlassThis isYourRadioPlayhouse.I\\'m Ira Glass. OK, what am I doing right now? What am I doing right now? That\\'s right. That\\'s right. Eye contact.Joe FranklinLook right in the eye. Eye contact is everything.Ira GlassThat\\'s right. Advice from the master. OK. Let\\'s review our program so far. Let\\'s just review. Let\\'s just get things straight right now. Our stories so far have been about people whose futures were taken from them and were thrown into the present in one way or another.I guess when any big emotional moment happens, you are thrown in the present in a really aggressive, aggressive way, whether you choose to or not. You have this hyper sense of reality. Well, the next story is about someone whose future was taken from him when he was wrongly imprisoned for 20 years. And his sentence was commuted two years ago. And he found himself reborn into everyday life.Ed RyderIt was like I just-- I don\\'t know. It seemed like the oxygen was even different. You know what I mean? The air seemed to be thinner.I\\'ll tell you what\\'s been a real kick for me, getting up, cooking breakfast. Making pancakes, and eggs, and bacon, and stuff like that. It sounds drab maybe to the common-- everybody would think of that as, \"That\\'s really drab.\" But for me, that\\'s really exciting. And that\\'s one of the things I always dreamed of doing. I also dreamt of finding a very lovely lady, and I have. Inside, I\\'m happy. Inside.Ira GlassThis is Ed Ryder. He was in prison for murder and was doing time in Graterford Prison in Pennsylvania. And a few years ago, a key witness who had testified against him admitted to lying while under oath, and other evidence came forward. He was made a free man. Back when he was in Graterford Prison, he played trumpet, and he sang with a jazz band. And that whole time, he dreamed of this new life, a new life that he would have outside as a professional musician. And that\\'s what he\\'s working on. That\\'s what he\\'s working on right now. And he\\'s playing. He doesn\\'t have a CD yet, but he\\'s playing gigs in the real world.Ed RyderThe first time I played, when I got out of prison, I didn\\'t feel compelled to be so exact like I did when I was at Graterford. Inmates are the worst, critical people in the world. They criticize anything you do. In prison, you have a lot of musicians. After all, musicians, they don\\'t make no money, so I guess the first place you find them at is in prison. But you have a lot of guys who are musicians.And even though they might not be actively playing anymore, they\\'ll be quick to criticize you, whether the chord is not right, or whether you didn\\'t flatten the ninth, whether you didn\\'t raise this fifth, or you guys didn\\'t play the changes right. Although it might not have took away from the structure of the music, it\\'s just that, I guess you can say that prisoners have a tendency to think like classical musicians would. Everything has to be perfect and exact the way it\\'s heard. And everything has to be like that. There\\'s no going against the grain.And here, in the world, people are a little different. They don\\'t concern themselves so much with that, as much as how are you entertaining us? How are you helping us to feel better about ourselves? How are you making us feel better? At Graterford, there is nothing you can do to make them feel better, except to release them.So if you can play for a Graterford audience, you don\\'t even look for an applause. Just as long as they don\\'t boo you, you\\'re all right. If they can\\'t find nothing wrong with the music, they\\'ll tell you, \"You just didn\\'t turn right. When you had the horn up, you didn\\'t hold it on a 45 degree angle. It didn\\'t look right.\" So they\\'ll find something.Ira GlassNow you know how we heard people earlier in the program talk about the importance of living in the present. But when we interviewed Ed Ryder, he pointed out that, in prison, the most important thing is to keep your eye on the future, on the day that you\\'re going to get out. And that the guys who just live in the present do really badly, because, of course, the present is so terrible.Ed RyderI think when I was in prison, I dreamed more about the future in my head. I just had a lot of plans, a lot of things that I just dreamed about, I just dreamed of doing and dreamed of accomplishing. You\\'re forced almost to. You know what I mean? You have nothing else to look forward to but tomorrow. You\\'re constantly hoping and hoping. You\\'re trying to plan something for the future.Ira GlassWe asked him if he is still playing the same music now that his future is here and he\\'s out. And we thought that maybe the songs that he used to play would just bring back these hard memories of prison that he\\'d rather just as soon avoid. But he said, no, he plays the same numbers now that he used to, though sometimes they mean something different to him today.Ed RyderWhen I was in Graterford, I always listened to it. I had a tape of \"God Bless the Child That\\'s Got His Own\" by Billie Holiday. And what it meant to me when I was at Graterford-- and it has the same meaning now, but it\\'s different. In the sense that, when I was at Graterford, when she said, \"Them that\\'s got shall get, Them that\\'s not shall lose. So the Bible says, and it still is news. Mama may have, Papa may have, But God bless the child that has his own.\"Well, in my mind, at Graterford, I thought that, yes, I was the child that had his own, because I was out here on my own. I had no help at the time. There was no hope. I seen no way. I was like a child. I was like a child because I had no one I can turn to. My parents had passed. I had no one I could turn to.And I felt like every time I would listen to that, I felt as though she was talking directly to me. And for me, that meant that I was on my own in this prison situation. And I was going to have to make it the best way that I could. And I was going to have to muster all the energy that I could possibly muster. Now when I was released and I heard the same song again, it still had that meaning, but now it\\'s a different-- I\\'m on my own differently because I\\'m not in prison anymore.That\\'s not the struggle no more. It\\'s me. But I\\'m on my own now because I\\'ve got things that I have to do. I have responsibilities now that I have to take care of. I have bills that I have to pay. I have job responsibility.I have a lot of other things that I have to do, and I have to do these things on my own now. I don\\'t have no prison guards waking me up in the morning, telling me, \"Hey, it\\'s time to get up,\" or \"It\\'s time to go eat, \" or \"It\\'s time where you guys can go to a shower.\" I don\\'t have that anymore. I\\'m on my own. So all this now is dependent upon me and my own initiative.[SINGING] Them that\\'s got shall get, them that\\'s not will lose. So the Bible said, and it still is news. Mama may have, Papa may have, but God bless the child that\\'s got his own, that\\'s got his own. You know the strong get more, while the weak ones fade. Empty pockets don\\'t, they don\\'t make the grade. Mama may have, Papa may have, but God bless the child that\\'s got his own, that\\'s got his own. Money, you\\'ve got lots of friends. They all keep hanging around your door. But when money\\'s gone and all of the spendings end, they don\\'t come around, they won\\'t come around no more. Rich relations give a crust of bread and such. Go on and help yourself, but you better not take too much. Mama may have, Papa may have, but God bless the child that\\'s got his own. God bless the child that\\'s got his own.That\\'s basically some of it.Ira GlassEd Ryder joining us in the playhouse from the studios of WHYY in Philadelphia, speaking with me and associate producer Nancy Updike. Ed Ryder\\'s a big Billie Holiday fanatic. That was the word he used, \"fanatic,\" when we asked him about it. So when we asked him to play a number with his horn, with his trumpet, he played \"Lover Man.\"[MUSIC - \"LOVER MAN\" BY BILLIE HOLIDAY]CreditsIra GlassThat\\'s pretty much all the time we have for this evening.[FUNDING CREDITS]This show was produced by Dolores Wilber, Peter Clowney, Nancy Updike, Alix Spiegel, and myself. Contributing editors Paul Tough and Jack Hitt on the west coast, Margy Rochlin on the east coast. I\\'ve got that backwards. Paul Tough and Jack Hitt on the east coast. Margy Rochlin on the west. You see, you get so confused when you have two pieces of music running at the same time.[ACKNOWLEDGEMENTS]Torey Malatia has supported this show from the start. We\\'ll be back next week, same time, we hope. From WBEZ Chicago, I\\'m Ira Glass.]'"
      ]
     },
     "execution_count": 18,
     "metadata": {},
     "output_type": "execute_result"
    }
   ],
   "source": [
    "csoup.get_text(strip=True)"
   ]
  },
  {
   "cell_type": "code",
   "execution_count": 19,
   "id": "107cb61d-a2ae-4c3a-9378-29e801c852f2",
   "metadata": {
    "scrolled": true
   },
   "outputs": [
    {
     "ename": "AttributeError",
     "evalue": "'NoneType' object has no attribute 'text'",
     "output_type": "error",
     "traceback": [
      "\u001b[0;31m---------------------------------------------------------------------------\u001b[0m",
      "\u001b[0;31mAttributeError\u001b[0m                            Traceback (most recent call last)",
      "Cell \u001b[0;32mIn[19], line 1\u001b[0m\n\u001b[0;32m----> 1\u001b[0m soup\u001b[38;5;241m.\u001b[39mfind(\u001b[38;5;124m\"\u001b[39m\u001b[38;5;124mdiv\u001b[39m\u001b[38;5;124m\"\u001b[39m, class_\u001b[38;5;241m=\u001b[39m\u001b[38;5;124m\"\u001b[39m\u001b[38;5;124mhost\u001b[39m\u001b[38;5;124m\"\u001b[39m)\u001b[38;5;241m.\u001b[39mh4\u001b[38;5;241m.\u001b[39mtext\n",
      "\u001b[0;31mAttributeError\u001b[0m: 'NoneType' object has no attribute 'text'"
     ]
    }
   ],
   "source": [
    "soup.find(\"div\", class_=\"host\").h4.text #for host"
   ]
  },
  {
   "cell_type": "code",
   "execution_count": null,
   "id": "650544bd-76d9-4b3f-9830-9ad45694ed04",
   "metadata": {},
   "outputs": [],
   "source": [
    "date = soup.find(\"meta\", property=\"article:published_time\")['content']\n",
    "\n",
    "date"
   ]
  },
  {
   "cell_type": "code",
   "execution_count": null,
   "id": "4cb7a803-79ae-4ba6-b694-dabd4cb5549a",
   "metadata": {},
   "outputs": [],
   "source": [
    "\n",
    "dt = datetime.strptime(date, \"%Y-%m-%dT%H:%M:%S%z\")\n",
    "dt.astimezone(ZoneInfo('US/Pacific'))"
   ]
  },
  {
   "cell_type": "code",
   "execution_count": null,
   "id": "0d8ee0e9-a915-4422-8e21-d627ed4260e0",
   "metadata": {},
   "outputs": [],
   "source": [
    "soup.find_all('p')[289]"
   ]
  },
  {
   "cell_type": "code",
   "execution_count": null,
   "id": "01f3a93e-f521-40f9-ba55-98799bbb48d0",
   "metadata": {},
   "outputs": [],
   "source": [
    "raw_ts = soup.findAll('p', {'begin':True})[287].get('begin')\n",
    "ts = datetime.strptime(raw_ts, \"%H:%M:%S.%f\")\n",
    "timestamp = timedelta(hours=ts.hour, minutes=ts.minute, seconds=ts.second)\n",
    "timestamp"
   ]
  },
  {
   "cell_type": "code",
   "execution_count": null,
   "id": "04227c4f-e3c7-4aa7-8e4e-d9904fce420d",
   "metadata": {},
   "outputs": [],
   "source": [
    "meow = soup.findAll('p', {'begin':True})[287].get('data-timestamp')\n",
    "pd.to_timedelta(float(meow), unit='s')"
   ]
  },
  {
   "cell_type": "markdown",
   "id": "4e51f85e-33f3-41f0-b3d3-c8f655850f18",
   "metadata": {},
   "source": [
    "# HTML Scraping Functions"
   ]
  },
  {
   "cell_type": "code",
   "execution_count": 24,
   "id": "27e0af1d-6781-4815-9f7d-90317079cb1b",
   "metadata": {},
   "outputs": [],
   "source": [
    "# returns full text transcript without html tags, footers and headers\n",
    "# return type: string\n",
    "def clean_transcript(zup):\n",
    "    try:\n",
    "        content = zup.find_all(\"div\", class_=\"content\")\n",
    "        c_soup = BeautifulSoup(str(content))\n",
    "        return c_soup.get_text(strip=True)\n",
    "    except Exception as e: \n",
    "        print(e)\n",
    "        return None\n",
    "\n",
    "# returns unique contributors (episode host and host of each act)\n",
    "# return type: list\n",
    "def get_contributors(zup):\n",
    "    contributors = set()\n",
    "    try:\n",
    "        contributors_raw = soup.select('.host h4')\n",
    "        for n in contributors_raw:\n",
    "            name = n.get_text(strip=True)\n",
    "            name = re.sub(\"\\\\s+\", \" \", name)\n",
    "            contributors.add(name)\n",
    "        return list(contributors)\n",
    "    except Exception as e: \n",
    "        print(e)\n",
    "        return None\n",
    "\n",
    "# returns episode number and title\n",
    "# return type: tuple\n",
    "def get_episode(zup): \n",
    "    try:\n",
    "        raw_title = zup.title.text\n",
    "        split = re.split(\":\", raw_title, maxsplit=1)\n",
    "        num = split[0]\n",
    "        title = re.split(\"-\",split[1])[0].strip()\n",
    "        return num, title\n",
    "    except Exception as e: \n",
    "        print(e)\n",
    "        return None\n",
    "\n",
    "\n",
    "# returns episode host\n",
    "# return type: string\n",
    "def get_host(zup):\n",
    "    try:\n",
    "        return soup.find(\"div\", class_=\"host\").h4.text\n",
    "    except Exception as e: \n",
    "        print(e)\n",
    "        return None\n",
    "\n",
    "# returns number of acts in episode, not including the prologue and credits\n",
    "# return type: int\n",
    "def get_num_acts(zup): \n",
    "    try:\n",
    "        return len(zup.find_all(\"div\", class_='act')) - 2 #for prologue and credits\n",
    "    except Exception as e: \n",
    "        print(e)\n",
    "        return None\n",
    "        \n",
    "# return publication date in US/Pacific timezone\n",
    "# return type: datetime\n",
    "def get_date(zup): \n",
    "    try:\n",
    "        date = soup.find(\"meta\", property=\"article:published_time\")['content']\n",
    "        dt = datetime.strptime(date, \"%Y-%m-%dT%H:%M:%S%z\")\n",
    "        return dt.astimezone(ZoneInfo('US/Pacific'))\n",
    "    except Exception as e: \n",
    "        print(e)\n",
    "        return None\n",
    "\n",
    "\n",
    "# returns last recorded timestamp in episode (as an approximate for episode length)\n",
    "# return type: timedelta\n",
    "def get_last_timestamp(zup):\n",
    "    try:\n",
    "        num_ts = len(zup.find_all('p', {'begin':True}))\n",
    "        raw_ts = zup.findAll('p', {'begin':True})[num_ts-1].get('data-timestamp')\n",
    "        return pd.to_timedelta(float(raw_ts),unit='s')\n",
    "    except Exception as e: \n",
    "        print(e)\n",
    "        return None\n"
   ]
  },
  {
   "cell_type": "markdown",
   "id": "6a2e4c69-0d22-40c2-917c-3503c9e12d76",
   "metadata": {},
   "source": [
    "# Loading data into dataframe"
   ]
  },
  {
   "cell_type": "code",
   "execution_count": 25,
   "id": "559cfe41-0147-4acf-95ad-4ac8bec12894",
   "metadata": {},
   "outputs": [
    {
     "data": {
      "text/plain": [
       "'ep_num = []\\nep_name = []\\npub_date = []\\nhost = []\\ncontributers = []\\ntranscript = []\\nnum_acts = []\\nlast_timestamp = []\\n'"
      ]
     },
     "execution_count": 25,
     "metadata": {},
     "output_type": "execute_result"
    }
   ],
   "source": [
    "# lists to turn into columns\n",
    "'''ep_num = []\n",
    "ep_name = []\n",
    "pub_date = []\n",
    "host = []\n",
    "contributors = []\n",
    "transcript = []\n",
    "num_acts = []\n",
    "last_timestamp = []\n",
    "'''"
   ]
  },
  {
   "cell_type": "code",
   "execution_count": 45,
   "id": "cb19b5a4-3f34-4fd8-9c12-ebcae415e917",
   "metadata": {
    "scrolled": true
   },
   "outputs": [],
   "source": [
    "latest_ep_num = 852\n",
    "data = []\n",
    "for ep in np.arange(824,latest_ep_num+1):\n",
    "    try:\n",
    "        #temp_ep = []\n",
    "        with open('transcript-html/'+str(ep)+'.html','r') as f:\n",
    "            content = f.read()\n",
    "            soup = BeautifulSoup(content, 'html.parser')\n",
    "            '''\n",
    "            ep_num.append(ep)#get_episode(soup)[0])\n",
    "            ep_name.append(get_episode(soup)[1])\n",
    "            pub_date.append(get_date(soup))\n",
    "            host.append(get_host(soup))\n",
    "            contributors.append(get_contributors(soup))\n",
    "            ct = clean_transcript(soup)\n",
    "            transcript.append(ct)\n",
    "            num_acts.append(get_num_acts(soup))\n",
    "            last_timestamp.append(get_last_timestamp(soup))\n",
    "            \n",
    "            t = open('transcript-text/'+str(ep)+'.txt', 'a')\n",
    "            t.write(ct)\n",
    "            t.close()\n",
    "            '''\n",
    "            ep_num = ep\n",
    "            ep_name = get_episode(soup)[1]\n",
    "            pub_date = get_date(soup)\n",
    "            host = get_host(soup)\n",
    "            contributors = get_contributors(soup)\n",
    "            ct = clean_transcript(soup)\n",
    "            num_acts = get_num_acts(soup)\n",
    "            last_timestamp = get_last_timestamp(soup)\n",
    "            data.append([ep_num, ep_name, pub_date, host, contributers, num_acts, last_timestamp])\n",
    "\n",
    "            t = open('transcript-text/'+str(ep)+'.txt', 'a')\n",
    "            if ct != None: \n",
    "                t.write(ct)\n",
    "            else: \n",
    "                t.write(\"No transcript detected.\")\n",
    "            t.close()\n",
    "    except IOError:\n",
    "        print(\"File\" + str(ep) + \"does not exist\")\n",
    "    except Exception as e: \n",
    "        print(\"Something went wrong at episode \" + str(ep))\n",
    "        print(str(e))\n",
    "    finally:\n",
    "        f.close()"
   ]
  },
  {
   "cell_type": "markdown",
   "id": "8b3a0441-e6f8-4154-956b-ddcc70719133",
   "metadata": {},
   "source": [
    "* 1: class is interviewer not host\n",
    "* "
   ]
  },
  {
   "cell_type": "code",
   "execution_count": 46,
   "id": "5f7c4016-bc58-46b2-af0a-0172b7e0b5eb",
   "metadata": {},
   "outputs": [],
   "source": [
    "temp = pd.DataFrame(data, columns = df.columns)\n",
    "df = pd.concat([df,temp])"
   ]
  },
  {
   "cell_type": "code",
   "execution_count": 3,
   "id": "6c8f919b-126d-4f71-aafa-e70e9ece0f21",
   "metadata": {},
   "outputs": [
    {
     "ename": "NameError",
     "evalue": "name 'df' is not defined",
     "output_type": "error",
     "traceback": [
      "\u001b[0;31m---------------------------------------------------------------------------\u001b[0m",
      "\u001b[0;31mNameError\u001b[0m                                 Traceback (most recent call last)",
      "Cell \u001b[0;32mIn[3], line 2\u001b[0m\n\u001b[1;32m      1\u001b[0m \u001b[38;5;66;03m#df = pd.DataFrame(data, columns=['ep_num', 'ep_name', 'pub_date', 'host', 'contributers', 'num_acts', 'last_timestamp'])\u001b[39;00m\n\u001b[0;32m----> 2\u001b[0m df[\u001b[38;5;241m30\u001b[39m]\n",
      "\u001b[0;31mNameError\u001b[0m: name 'df' is not defined"
     ]
    }
   ],
   "source": [
    "#df = pd.DataFrame(data, columns=['ep_num', 'ep_name', 'pub_date', 'host', 'contributers', 'num_acts', 'last_timestamp'])\n",
    "df[30]"
   ]
  },
  {
   "cell_type": "code",
   "execution_count": null,
   "id": "c554e8da-541e-4dc8-a18f-161d9977b1a1",
   "metadata": {},
   "outputs": [],
   "source": [
    "#testing cell\n",
    "'''test_ep = 497\n",
    "ep_file = open('transcript-html/'+str(test_ep)+'.html', 'r')\n",
    "content = ep_file.read()\n",
    "soup = BeautifulSoup(content, 'html.parser')\n",
    "soup.title'''\n",
    "#soup.find(\"div\", class_=\"interviewer\").h4.text # works for ep 1\n"
   ]
  },
  {
   "cell_type": "code",
   "execution_count": 49,
   "id": "0172f806-b74d-42bd-a390-3e2aefbf2123",
   "metadata": {},
   "outputs": [],
   "source": [
    "df.to_csv('episode_info')"
   ]
  },
  {
   "cell_type": "code",
   "execution_count": null,
   "id": "d3eb7dd3-16e4-4166-b77b-919316ee8d2b",
   "metadata": {},
   "outputs": [],
   "source": []
  }
 ],
 "metadata": {
  "kernelspec": {
   "display_name": "Python 3 (ipykernel)",
   "language": "python",
   "name": "python3"
  },
  "language_info": {
   "codemirror_mode": {
    "name": "ipython",
    "version": 3
   },
   "file_extension": ".py",
   "mimetype": "text/x-python",
   "name": "python",
   "nbconvert_exporter": "python",
   "pygments_lexer": "ipython3",
   "version": "3.12.7"
  }
 },
 "nbformat": 4,
 "nbformat_minor": 5
}
