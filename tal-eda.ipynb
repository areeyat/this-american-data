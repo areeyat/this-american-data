{
 "cells": [
  {
   "cell_type": "code",
   "execution_count": 1,
   "id": "7a65e169-59d0-47aa-b5f5-71997c103268",
   "metadata": {},
   "outputs": [],
   "source": [
    "import pandas as pd"
   ]
  },
  {
   "cell_type": "code",
   "execution_count": 45,
   "id": "e32017fb-9ee5-48eb-a01a-0658d592ac02",
   "metadata": {},
   "outputs": [],
   "source": [
    "tal = pd.read_csv('episode_info', index_col=False)\n",
    "#tal.drop(\"Unnamed: 0\", axis=1, inplace=True)\n",
    "#tal.drop_duplicates(inplace=True) "
   ]
  },
  {
   "cell_type": "code",
   "execution_count": 44,
   "id": "aefb1f00-6863-42f1-ba40-93148cfda889",
   "metadata": {},
   "outputs": [],
   "source": [
    "tal.to_csv('episode_info', index=False)"
   ]
  },
  {
   "cell_type": "code",
   "execution_count": 43,
   "id": "a4aed30d-f547-46b3-beb8-c481e734b4dd",
   "metadata": {},
   "outputs": [
    {
     "data": {
      "text/plain": [
       "ep_num            0\n",
       "ep_name           0\n",
       "pub_date          0\n",
       "host              0\n",
       "contributers      0\n",
       "num_acts          0\n",
       "last_timestamp    0\n",
       "dtype: int64"
      ]
     },
     "execution_count": 43,
     "metadata": {},
     "output_type": "execute_result"
    }
   ],
   "source": [
    "tal.isna().sum()"
   ]
  },
  {
   "cell_type": "code",
   "execution_count": 42,
   "id": "c0d3cdb1-fcc6-49b5-a5e2-2cf8dd647515",
   "metadata": {},
   "outputs": [],
   "source": [
    "tal.fillna('Ira Glass', inplace=True)"
   ]
  },
  {
   "cell_type": "code",
   "execution_count": 38,
   "id": "d5a9d008-cdbc-4a82-9478-19cf552a9592",
   "metadata": {},
   "outputs": [
    {
     "data": {
      "text/html": [
       "<div>\n",
       "<style scoped>\n",
       "    .dataframe tbody tr th:only-of-type {\n",
       "        vertical-align: middle;\n",
       "    }\n",
       "\n",
       "    .dataframe tbody tr th {\n",
       "        vertical-align: top;\n",
       "    }\n",
       "\n",
       "    .dataframe thead th {\n",
       "        text-align: right;\n",
       "    }\n",
       "</style>\n",
       "<table border=\"1\" class=\"dataframe\">\n",
       "  <thead>\n",
       "    <tr style=\"text-align: right;\">\n",
       "      <th></th>\n",
       "      <th>ep_num</th>\n",
       "      <th>ep_name</th>\n",
       "      <th>pub_date</th>\n",
       "      <th>host</th>\n",
       "      <th>contributers</th>\n",
       "      <th>num_acts</th>\n",
       "      <th>last_timestamp</th>\n",
       "    </tr>\n",
       "  </thead>\n",
       "  <tbody>\n",
       "    <tr>\n",
       "      <th>0</th>\n",
       "      <td>1</td>\n",
       "      <td>New Beginnings</td>\n",
       "      <td>2017-12-14 10:24:29-08:00</td>\n",
       "      <td>Ira Glass</td>\n",
       "      <td>['Kevin Kelly', 'Lawrence Steger', 'Ira Glass']</td>\n",
       "      <td>4</td>\n",
       "      <td>0 days 01:01:50.290000</td>\n",
       "    </tr>\n",
       "    <tr>\n",
       "      <th>1</th>\n",
       "      <td>2</td>\n",
       "      <td>Small Scale Sin</td>\n",
       "      <td>2017-12-14 10:24:29-08:00</td>\n",
       "      <td>Ira Glass</td>\n",
       "      <td>['Announcer', 'Ira Glass']</td>\n",
       "      <td>3</td>\n",
       "      <td>0 days 01:01:13.840000</td>\n",
       "    </tr>\n",
       "    <tr>\n",
       "      <th>2</th>\n",
       "      <td>3</td>\n",
       "      <td>Poultry Slam 1995</td>\n",
       "      <td>2017-12-14 10:24:29-08:00</td>\n",
       "      <td>Ira Glass</td>\n",
       "      <td>['David Sedaris', 'Chickenman Announcer', 'Ira...</td>\n",
       "      <td>4</td>\n",
       "      <td>0 days 00:58:57.870000</td>\n",
       "    </tr>\n",
       "    <tr>\n",
       "      <th>3</th>\n",
       "      <td>4</td>\n",
       "      <td>Vacations</td>\n",
       "      <td>2017-12-14 10:24:29-08:00</td>\n",
       "      <td>Ira Glass</td>\n",
       "      <td>['Sandra Tsing Loh', 'Ira Glass', 'David Sedar...</td>\n",
       "      <td>3</td>\n",
       "      <td>0 days 00:58:42.070000</td>\n",
       "    </tr>\n",
       "    <tr>\n",
       "      <th>4</th>\n",
       "      <td>5</td>\n",
       "      <td>Anger and Forgiveness</td>\n",
       "      <td>2017-12-14 10:24:29-08:00</td>\n",
       "      <td>Ira Glass</td>\n",
       "      <td>['Glen Fitzgerald', 'Jack Hitt', 'Cheryl Trykv...</td>\n",
       "      <td>5</td>\n",
       "      <td>0 days 01:00:33.100000</td>\n",
       "    </tr>\n",
       "  </tbody>\n",
       "</table>\n",
       "</div>"
      ],
      "text/plain": [
       "   ep_num                ep_name                   pub_date       host  \\\n",
       "0       1         New Beginnings  2017-12-14 10:24:29-08:00  Ira Glass   \n",
       "1       2        Small Scale Sin  2017-12-14 10:24:29-08:00  Ira Glass   \n",
       "2       3      Poultry Slam 1995  2017-12-14 10:24:29-08:00  Ira Glass   \n",
       "3       4              Vacations  2017-12-14 10:24:29-08:00  Ira Glass   \n",
       "4       5  Anger and Forgiveness  2017-12-14 10:24:29-08:00  Ira Glass   \n",
       "\n",
       "                                        contributers  num_acts  \\\n",
       "0    ['Kevin Kelly', 'Lawrence Steger', 'Ira Glass']         4   \n",
       "1                         ['Announcer', 'Ira Glass']         3   \n",
       "2  ['David Sedaris', 'Chickenman Announcer', 'Ira...         4   \n",
       "3  ['Sandra Tsing Loh', 'Ira Glass', 'David Sedar...         3   \n",
       "4  ['Glen Fitzgerald', 'Jack Hitt', 'Cheryl Trykv...         5   \n",
       "\n",
       "           last_timestamp  \n",
       "0  0 days 01:01:50.290000  \n",
       "1  0 days 01:01:13.840000  \n",
       "2  0 days 00:58:57.870000  \n",
       "3  0 days 00:58:42.070000  \n",
       "4  0 days 01:00:33.100000  "
      ]
     },
     "execution_count": 38,
     "metadata": {},
     "output_type": "execute_result"
    }
   ],
   "source": [
    "tal.head()"
   ]
  },
  {
   "cell_type": "code",
   "execution_count": null,
   "id": "540aa29a-73fb-4cc9-a70b-5a328dca8ce0",
   "metadata": {},
   "outputs": [],
   "source": []
  }
 ],
 "metadata": {
  "kernelspec": {
   "display_name": "Python 3 (ipykernel)",
   "language": "python",
   "name": "python3"
  },
  "language_info": {
   "codemirror_mode": {
    "name": "ipython",
    "version": 3
   },
   "file_extension": ".py",
   "mimetype": "text/x-python",
   "name": "python",
   "nbconvert_exporter": "python",
   "pygments_lexer": "ipython3",
   "version": "3.12.7"
  }
 },
 "nbformat": 4,
 "nbformat_minor": 5
}
